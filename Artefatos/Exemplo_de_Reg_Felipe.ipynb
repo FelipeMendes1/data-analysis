{
  "cells": [
    {
      "cell_type": "markdown",
      "metadata": {
        "id": "nVnoGTFGerL-"
      },
      "source": [
        "**A base de dados**\n",
        "\n",
        "link: https://www.kaggle.com/datasets/rohitudageri/credit-card-details\n",
        "\n",
        "\n",
        "**Dicionario de dados**\n",
        "\n",
        "* Ind_ID: Client ID\n",
        "* Gender: Gender information\n",
        "* Car_owner: Having car or not\n",
        "* Propert_owner: Having property or not\n",
        "* Children: Count of children\n",
        "* Annual_income: Annual income\n",
        "* Type_Income: Income type\n",
        "* Education: Education level\n",
        "* Marital_status: Marital_status\n",
        "* Housing_type: Living style\n",
        "* Birthday_count: Use backward count from current day (0), -1 means yesterday.\n",
        "* Employed_days: Start date of employment. Use backward count from current day (0). Positive value means, individual is currently unemployed.\n",
        "* Mobile_phone: Any mobile phone\n",
        "* Work_phone: Any work phone\n",
        "* Phone: Any phone number\n",
        "* EMAIL_ID: Any email ID\n",
        "* Type_Occupation: Occupation\n",
        "* Family_Members: Family size\n",
        "* Label: 0 is application approved and 1 is application rejected.\n",
        "\n",
        "\n",
        "\n"
      ]
    },
    {
      "cell_type": "code",
      "execution_count": null,
      "metadata": {
        "id": "ME3F72UfBfmg"
      },
      "outputs": [],
      "source": [
        "import pandas as pd\n",
        "import seaborn as sns\n",
        "import numpy as np\n",
        "import matplotlib.pyplot as plt\n"
      ]
    },
    {
      "cell_type": "code",
      "execution_count": null,
      "metadata": {
        "id": "qQjZnC46GxEm"
      },
      "outputs": [],
      "source": [
        "df = pd.read_csv('/content/Credit_card.csv')\n",
        "df_label = pd.read_csv('/content/Credit_card_label.csv')"
      ]
    },
    {
      "cell_type": "code",
      "execution_count": null,
      "metadata": {
        "id": "HohhSmlxa7Gr"
      },
      "outputs": [],
      "source": []
    },
    {
      "cell_type": "markdown",
      "metadata": {
        "id": "ehsX-K9sHpTs"
      },
      "source": [
        "#### Verificação dos dados"
      ]
    },
    {
      "cell_type": "code",
      "execution_count": null,
      "metadata": {
        "id": "pZIA4ZHJHM6p"
      },
      "outputs": [],
      "source": [
        "df.head(5)"
      ]
    },
    {
      "cell_type": "code",
      "execution_count": null,
      "metadata": {
        "id": "qY6BSZSVHwl8"
      },
      "outputs": [],
      "source": [
        "df_label.head(5)"
      ]
    },
    {
      "cell_type": "code",
      "execution_count": null,
      "metadata": {
        "id": "FAi03_xFHTWg"
      },
      "outputs": [],
      "source": [
        "df.tail(5)"
      ]
    },
    {
      "cell_type": "code",
      "execution_count": null,
      "metadata": {
        "id": "Us8foJjyH3KW"
      },
      "outputs": [],
      "source": [
        "df_label.tail(5)"
      ]
    },
    {
      "cell_type": "code",
      "execution_count": null,
      "metadata": {
        "id": "8Lc1Lf5nHlqu"
      },
      "outputs": [],
      "source": [
        "df.info()"
      ]
    },
    {
      "cell_type": "code",
      "execution_count": null,
      "metadata": {
        "id": "z39PaYlQH5yd"
      },
      "outputs": [],
      "source": [
        "df_label.info()"
      ]
    },
    {
      "cell_type": "code",
      "execution_count": null,
      "metadata": {
        "id": "C_WWtOBKN4dy"
      },
      "outputs": [],
      "source": []
    },
    {
      "cell_type": "code",
      "execution_count": null,
      "metadata": {
        "id": "Mop-DWXMH-in"
      },
      "outputs": [],
      "source": [
        "df_full = df.merge(df_label, how = 'left', on = 'Ind_ID')"
      ]
    },
    {
      "cell_type": "code",
      "execution_count": null,
      "metadata": {
        "id": "R8IsLGWyOKsM"
      },
      "outputs": [],
      "source": [
        "df_full.info()"
      ]
    },
    {
      "cell_type": "code",
      "execution_count": null,
      "metadata": {
        "id": "-1D3WBLFkOyE"
      },
      "outputs": [],
      "source": [
        "df_full.isna().sum()"
      ]
    },
    {
      "cell_type": "code",
      "execution_count": null,
      "metadata": {
        "id": "y_4MFNexPGV4"
      },
      "outputs": [],
      "source": [
        "df_full.index"
      ]
    },
    {
      "cell_type": "markdown",
      "metadata": {
        "id": "RunlfhzZkVR2"
      },
      "source": []
    },
    {
      "cell_type": "code",
      "execution_count": null,
      "metadata": {
        "id": "2HoURl2ROyIM"
      },
      "outputs": [],
      "source": [
        "df_numeros = df_full.select_dtypes(\"number\")"
      ]
    },
    {
      "cell_type": "code",
      "execution_count": null,
      "metadata": {
        "id": "ugOljkpiSBO9"
      },
      "outputs": [],
      "source": [
        "df_numeros['EMAIL_ID'].unique()"
      ]
    },
    {
      "cell_type": "code",
      "execution_count": null,
      "metadata": {
        "id": "gSTf6pTxO6C6"
      },
      "outputs": [],
      "source": [
        "colunas_to_drop = ['Ind_ID', 'Mobile_phone', 'Work_Phone', 'Phone', 'EMAIL_ID', 'label' ]\n",
        "\n",
        "df_numeros = df_numeros.drop(colunas_to_drop, axis = 1)"
      ]
    },
    {
      "cell_type": "code",
      "execution_count": null,
      "metadata": {
        "id": "yjGNRfEgSySp"
      },
      "outputs": [],
      "source": [
        "df_numeros.describe()"
      ]
    },
    {
      "cell_type": "code",
      "execution_count": null,
      "metadata": {
        "id": "2arlqiXmTogT"
      },
      "outputs": [],
      "source": [
        "for coluna in df_numeros.columns:\n",
        "  plt.figure(figsize=(4,4))\n",
        "  sns.histplot(data=df_full, x=coluna, hue='label')\n",
        "  plt.title(f'Histograma de {coluna} por classe')\n",
        "  plt.xlabel(coluna)\n",
        "  plt.ylabel('Contagem')\n",
        "  plt.show()\n"
      ]
    },
    {
      "cell_type": "code",
      "execution_count": null,
      "metadata": {
        "id": "MS3v7zL6raEj"
      },
      "outputs": [],
      "source": [
        "fig = plt.figure(figsize=(14,15))\n",
        "for index, col in enumerate(df_numeros.columns):\n",
        "    plt.subplot(6,4,index+1)\n",
        "    sns.boxplot(y=col, data=df_numeros)\n",
        "fig.tight_layout(pad=1.0)"
      ]
    },
    {
      "cell_type": "code",
      "execution_count": null,
      "metadata": {
        "id": "AwHJq2zHQyLv"
      },
      "outputs": [],
      "source": [
        "df_full[ list(df_numeros.columns) + ['label'] ]"
      ]
    },
    {
      "cell_type": "code",
      "execution_count": null,
      "metadata": {
        "id": "E-dq2U4SQvGc"
      },
      "outputs": [],
      "source": [
        "df_full[['label'] + list(df_numeros.columns)].corr()"
      ]
    },
    {
      "cell_type": "code",
      "execution_count": null,
      "metadata": {
        "id": "gtY3gYe-Uj6s"
      },
      "outputs": [],
      "source": [
        "sns.heatmap(df_full[['label'] + list(df_numeros.columns)].corr(), annot=True)"
      ]
    },
    {
      "cell_type": "code",
      "execution_count": null,
      "metadata": {
        "id": "TaKer-0qq0dD"
      },
      "outputs": [],
      "source": [
        "sns.heatmap(df_full[['label'] + list(df_numeros.columns)].corr('spearman'), annot=True);"
      ]
    },
    {
      "cell_type": "markdown",
      "metadata": {
        "id": "J0vG9V9iq-nS"
      },
      "source": [
        "analisando as categoricas"
      ]
    },
    {
      "cell_type": "code",
      "execution_count": null,
      "metadata": {
        "id": "rFHP3r33rwvV"
      },
      "outputs": [],
      "source": [
        "df_full.dtypes"
      ]
    },
    {
      "cell_type": "code",
      "execution_count": null,
      "metadata": {
        "id": "iZbDrNwNVJB8"
      },
      "outputs": [],
      "source": [
        "cat_columns = df_full.select_dtypes('object').columns\n",
        "cat_columns"
      ]
    },
    {
      "cell_type": "code",
      "execution_count": null,
      "metadata": {
        "id": "dSOJC0NbrBaG"
      },
      "outputs": [],
      "source": [
        "cat_columns = list(cat_columns) + ['Mobile_phone', 'Work_Phone', 'Phone', 'EMAIL_ID']\n",
        "df_full[cat_columns]"
      ]
    },
    {
      "cell_type": "code",
      "execution_count": null,
      "metadata": {
        "id": "VuedJMiWsROA"
      },
      "outputs": [],
      "source": [
        "for cat_column in cat_columns:\n",
        "    plt.figure(figsize=(5, 3))\n",
        "    sns.countplot(data=df_full, x=cat_column, hue='label')\n",
        "    plt.title(f'Contagem de {cat_column} por classe')\n",
        "    plt.xlabel(cat_column)\n",
        "    plt.ylabel('Contagem')\n",
        "    plt.xticks(rotation=45)\n",
        "    plt.show()"
      ]
    },
    {
      "cell_type": "code",
      "execution_count": null,
      "metadata": {
        "id": "cMiHXEXatP0N"
      },
      "outputs": [],
      "source": [
        "for coluna in cat_columns:\n",
        "  mensagem = f\"Tabela de contigência entre {coluna} e o label\"\n",
        "  print(len(mensagem) * \"-\")\n",
        "  print(mensagem)\n",
        "  print(len(mensagem) * \"-\")\n",
        "  print(pd.crosstab(df_full[coluna], df_full['label'], normalize='index').mul(100).round(2))\n",
        "  print(len(mensagem) * \"#\")\n"
      ]
    },
    {
      "cell_type": "markdown",
      "metadata": {
        "id": "JTej_9W8ll-z"
      },
      "source": [
        "#### construção de features"
      ]
    },
    {
      "cell_type": "code",
      "execution_count": null,
      "metadata": {
        "id": "zxD1vXuga5CJ"
      },
      "outputs": [],
      "source": [
        "df_full['Employed'] = df_full['Employed_days'].apply(lambda x: 1 if x <= 0 else 0 )\n",
        "pd.crosstab(df_full['Employed'], df_full['label'], normalize='index').mul(100).round(2)"
      ]
    },
    {
      "cell_type": "markdown",
      "metadata": {
        "id": "4ajMAdhIvcIf"
      },
      "source": [
        "#### Recorte da base de dados"
      ]
    },
    {
      "cell_type": "code",
      "execution_count": null,
      "metadata": {
        "id": "yPsRojlSvfXm"
      },
      "outputs": [],
      "source": [
        "from sklearn.model_selection import train_test_split"
      ]
    },
    {
      "cell_type": "code",
      "execution_count": null,
      "metadata": {
        "id": "1UlnSqDvwJl6"
      },
      "outputs": [],
      "source": [
        "df_full['Mobile_phone'].value_counts()"
      ]
    },
    {
      "cell_type": "code",
      "execution_count": null,
      "metadata": {
        "id": "6JvRvQDEv6O3"
      },
      "outputs": [],
      "source": [
        "columns_to_drop = ['Ind_ID', 'Mobile_phone', 'Employed_days']\n",
        "df_selected = df_full.drop(columns_to_drop, axis = 1)"
      ]
    },
    {
      "cell_type": "code",
      "source": [
        "df_selected"
      ],
      "metadata": {
        "id": "wPOKcUL6hAJi"
      },
      "execution_count": null,
      "outputs": []
    },
    {
      "cell_type": "code",
      "source": [
        "df_selected.dtypes"
      ],
      "metadata": {
        "id": "OfS8mxyRbt5S"
      },
      "execution_count": null,
      "outputs": []
    },
    {
      "cell_type": "code",
      "execution_count": null,
      "metadata": {
        "id": "PV8bCBeSw5mY"
      },
      "outputs": [],
      "source": [
        "X = df_selected.drop('label', axis = 1)\n",
        "y = df_selected['label']"
      ]
    },
    {
      "cell_type": "code",
      "execution_count": null,
      "metadata": {
        "id": "j650b-OyXgU4"
      },
      "outputs": [],
      "source": [
        "X"
      ]
    },
    {
      "cell_type": "code",
      "execution_count": null,
      "metadata": {
        "id": "BmM2Xgt-v2xf"
      },
      "outputs": [],
      "source": [
        "X_train, X_test, y_train, y_test = train_test_split(X, y, test_size=0.2, random_state=42)"
      ]
    },
    {
      "cell_type": "code",
      "execution_count": null,
      "metadata": {
        "id": "Y1Eq47SAYe9h"
      },
      "outputs": [],
      "source": [
        "y.value_counts(normalize = True)"
      ]
    },
    {
      "cell_type": "code",
      "execution_count": null,
      "metadata": {
        "id": "vnVjBC-cX8Ux"
      },
      "outputs": [],
      "source": [
        "y_train.value_counts(normalize = True)"
      ]
    },
    {
      "cell_type": "code",
      "execution_count": null,
      "metadata": {
        "id": "3_28L974YAIg"
      },
      "outputs": [],
      "source": [
        "y_test.value_counts(normalize = True)"
      ]
    },
    {
      "cell_type": "code",
      "execution_count": null,
      "metadata": {
        "id": "dvP2fAnixFrG"
      },
      "outputs": [],
      "source": [
        "y_train.value_counts(normalize = True)"
      ]
    },
    {
      "cell_type": "code",
      "execution_count": null,
      "metadata": {
        "id": "HUmbR1KRxQa7"
      },
      "outputs": [],
      "source": [
        "y_test.value_counts(normalize = True)"
      ]
    },
    {
      "cell_type": "markdown",
      "metadata": {
        "id": "tv4oobFNA61V"
      },
      "source": [
        "#### Tratamento das features categoricas"
      ]
    },
    {
      "cell_type": "code",
      "execution_count": null,
      "metadata": {
        "id": "85bwd5t4zsVd"
      },
      "outputs": [],
      "source": [
        "X_test"
      ]
    },
    {
      "cell_type": "code",
      "execution_count": null,
      "metadata": {
        "id": "VyfZawmQ2u_R"
      },
      "outputs": [],
      "source": [
        "cat_columns.remove('Mobile_phone')"
      ]
    },
    {
      "cell_type": "code",
      "execution_count": null,
      "metadata": {
        "id": "rYYZ6ZBF229F"
      },
      "outputs": [],
      "source": [
        "X_train[cat_columns].isna().sum()"
      ]
    },
    {
      "cell_type": "code",
      "execution_count": null,
      "metadata": {
        "id": "rAa7jB4f3Cpt"
      },
      "outputs": [],
      "source": [
        "from sklearn.impute import SimpleImputer"
      ]
    },
    {
      "cell_type": "code",
      "execution_count": null,
      "metadata": {
        "id": "GZIq3aLE4TTj"
      },
      "outputs": [],
      "source": [
        "X_train['Type_Occupation'].value_counts()"
      ]
    },
    {
      "cell_type": "code",
      "execution_count": null,
      "metadata": {
        "id": "mRBWh1TY3Qru"
      },
      "outputs": [],
      "source": [
        "imp_fill = SimpleImputer(missing_values=np.nan, strategy='constant', fill_value = 'Ausente')\n",
        "imp_fill.fit(X_train['Type_Occupation'].values.reshape(-1, 1))\n",
        "X_train['Type_Occupation'] = imp_fill.transform(X_train['Type_Occupation'].values.reshape(-1, 1))\n",
        "X_test['Type_Occupation'] = imp_fill.transform(X_test['Type_Occupation'].values.reshape(-1, 1))\n",
        "\n",
        "\n"
      ]
    },
    {
      "cell_type": "code",
      "execution_count": null,
      "metadata": {
        "id": "fJP4yxI3YYdd"
      },
      "outputs": [],
      "source": [
        "imp_most = SimpleImputer(missing_values=np.nan, strategy='most_frequent')\n",
        "imp_most.fit(X_train['GENDER'].values.reshape(-1, 1))\n",
        "X_train['GENDER'] = imp_most.transform(X_train['GENDER'].values.reshape(-1, 1))\n",
        "X_test['GENDER'] = imp_most.transform(X_test['GENDER'].values.reshape(-1, 1))"
      ]
    },
    {
      "cell_type": "code",
      "execution_count": null,
      "metadata": {
        "id": "ZseYAAjNY22Q"
      },
      "outputs": [],
      "source": [
        "X_train[cat_columns]"
      ]
    },
    {
      "cell_type": "code",
      "execution_count": null,
      "metadata": {
        "id": "bGUky6MBZUMW"
      },
      "outputs": [],
      "source": [
        "#pip install category_encoders"
      ]
    },
    {
      "cell_type": "code",
      "execution_count": null,
      "metadata": {
        "id": "rhOxW87_Zb-a"
      },
      "outputs": [],
      "source": [
        "from category_encoders.one_hot import OneHotEncoder\n",
        "from category_encoders.target_encoder  import TargetEncoder\n",
        "from category_encoders.ordinal  import OrdinalEncoder"
      ]
    },
    {
      "cell_type": "code",
      "execution_count": null,
      "metadata": {
        "id": "ziQRogSiZviN"
      },
      "outputs": [],
      "source": [
        "X_train['Car_Owner'].unique()"
      ]
    },
    {
      "cell_type": "code",
      "execution_count": null,
      "metadata": {
        "id": "VVnRNivZZg3y"
      },
      "outputs": [],
      "source": [
        "cat_to_onehot = ['GENDER', 'Car_Owner', 'Propert_Owner', 'Type_Income']\n",
        "one_hot_enc = OneHotEncoder(cols = cat_to_onehot)\n",
        "one_hot_enc.fit(X_train)\n",
        "X_train_encode = one_hot_enc.transform(X_train)\n",
        "X_train_encode"
      ]
    },
    {
      "cell_type": "code",
      "execution_count": null,
      "metadata": {
        "id": "jsLhKft3apjb"
      },
      "outputs": [],
      "source": [
        "X_train['EDUCATION'].unique()"
      ]
    },
    {
      "cell_type": "code",
      "execution_count": null,
      "metadata": {
        "id": "Z7IqLH-PahDT"
      },
      "outputs": [],
      "source": [
        "cat_to_ordinal = ['EDUCATION']\n",
        "\n",
        "\n",
        "mapping_education = [ { 'col' :  'EDUCATION',\n",
        "   'mapping': {\n",
        "    'Lower secondary' : 1,\n",
        "    'Secondary / secondary special' : 2,\n",
        "    'Incomplete higher' : 3,\n",
        "    'Higher education' : 4,\n",
        "    'Academic degree' : 5\n",
        "   }\n",
        "}\n",
        "]\n",
        "\n",
        "ordinal_enc = OrdinalEncoder(cols= cat_to_ordinal, mapping=mapping_education)\n",
        "ordinal_enc.fit(X_train_encode)\n",
        "X_train_encode = ordinal_enc.transform(X_train_encode)"
      ]
    },
    {
      "cell_type": "code",
      "execution_count": null,
      "metadata": {
        "id": "2lEHp1R9bVNT"
      },
      "outputs": [],
      "source": [
        "X_train_encode['EDUCATION']"
      ]
    },
    {
      "cell_type": "code",
      "execution_count": null,
      "metadata": {
        "id": "3iSgBvjrbdel"
      },
      "outputs": [],
      "source": [
        "X_train['Housing_type'].unique()"
      ]
    },
    {
      "cell_type": "markdown",
      "metadata": {
        "id": "5CPAZHYSbo-I"
      },
      "source": []
    },
    {
      "cell_type": "code",
      "execution_count": null,
      "metadata": {
        "id": "8M81Kml1bZed"
      },
      "outputs": [],
      "source": [
        "cat_to_target = ['Marital_status', 'Housing_type', 'Type_Occupation']\n",
        "target_enc = TargetEncoder(cols= cat_to_target)\n",
        "target_enc.fit(X_train_encode, y_train)\n",
        "X_train_encode = target_enc.transform(X_train_encode)\n",
        "X_train_encode"
      ]
    },
    {
      "cell_type": "code",
      "execution_count": null,
      "metadata": {
        "id": "1ZVzHV0VcE4r"
      },
      "outputs": [],
      "source": [
        "X_train_encode.info()"
      ]
    },
    {
      "cell_type": "code",
      "execution_count": null,
      "metadata": {
        "id": "EM6B3i8rcLif"
      },
      "outputs": [],
      "source": [
        "X_test_encode = one_hot_enc.transform(X_test)\n",
        "X_test_encode = ordinal_enc.transform(X_test_encode)\n",
        "X_test_encode = target_enc.transform(X_test_encode)"
      ]
    },
    {
      "cell_type": "code",
      "execution_count": null,
      "metadata": {
        "id": "ZQcdkh98zK2I"
      },
      "outputs": [],
      "source": [
        "X_train_encode['Annual_income'].hist()"
      ]
    },
    {
      "cell_type": "code",
      "execution_count": null,
      "metadata": {
        "id": "t4OxP2qzzBcq"
      },
      "outputs": [],
      "source": [
        "#Outliers\n",
        "qtd_desvios = 3\n",
        "upper_income  = X_train_encode['Annual_income'].std() * qtd_desvios\n",
        "X_train_encode['Annual_income'] = X_train_encode['Annual_income'].apply(lambda x: upper_income if x >  upper_income else x)\n",
        "X_test_encode['Annual_income'] = X_test_encode['Annual_income'].apply(lambda x: upper_income if x >  upper_income else x)"
      ]
    },
    {
      "cell_type": "code",
      "execution_count": null,
      "metadata": {
        "id": "ZimraXA8z8fF"
      },
      "outputs": [],
      "source": [
        "X_train_encode['Annual_income'].hist()"
      ]
    },
    {
      "cell_type": "code",
      "execution_count": null,
      "metadata": {
        "id": "PLngxqhg0K7S"
      },
      "outputs": [],
      "source": [
        "X_train_encode.isna().sum()"
      ]
    },
    {
      "cell_type": "code",
      "execution_count": null,
      "metadata": {
        "id": "eyeJuAY10Sf5"
      },
      "outputs": [],
      "source": [
        "imp_numbers = SimpleImputer(missing_values=np.nan, strategy='median').set_output(transform = \"pandas\")\n",
        "imp_numbers.fit(X_train_encode)\n",
        "X_train_encode = imp_numbers.transform(X_train_encode)\n",
        "X_test_encode = imp_numbers.transform(X_test_encode)"
      ]
    },
    {
      "cell_type": "code",
      "execution_count": null,
      "metadata": {
        "id": "ycCJPUMU0p3v"
      },
      "outputs": [],
      "source": [
        "X_train_encode.isna().sum()"
      ]
    },
    {
      "cell_type": "code",
      "execution_count": null,
      "metadata": {
        "id": "1SDUns6tjDDB"
      },
      "outputs": [],
      "source": [
        "X_train_encode.describe()"
      ]
    },
    {
      "cell_type": "code",
      "execution_count": null,
      "metadata": {
        "id": "xQre-79vynv-"
      },
      "outputs": [],
      "source": [
        "#Normalização\n",
        "\n",
        "from sklearn.preprocessing import MinMaxScaler\n",
        "\n",
        "scaler = MinMaxScaler().set_output(transform = \"pandas\")\n",
        "scaler.fit(X_train_encode)\n",
        "X_train_norm = scaler.transform(X_train_encode)\n",
        "X_test_norm = scaler.transform(X_test_encode)"
      ]
    },
    {
      "cell_type": "code",
      "execution_count": null,
      "metadata": {
        "id": "4qYQB9SE04Fs"
      },
      "outputs": [],
      "source": [
        "X_train_norm.describe()"
      ]
    },
    {
      "cell_type": "markdown",
      "metadata": {
        "id": "nmK60ZFi4oOO"
      },
      "source": [
        "#### Modelagem/Treinamento"
      ]
    },
    {
      "cell_type": "code",
      "execution_count": null,
      "metadata": {
        "id": "76f33xsx1aVi"
      },
      "outputs": [],
      "source": [
        "from sklearn.linear_model import LogisticRegression"
      ]
    },
    {
      "cell_type": "code",
      "execution_count": null,
      "metadata": {
        "colab": {
          "base_uri": "https://localhost:8080/",
          "height": 75
        },
        "id": "pP83sAeY5r0V",
        "outputId": "7090074f-5d56-4b71-8a3f-2877837fa6ec"
      },
      "outputs": [
        {
          "output_type": "execute_result",
          "data": {
            "text/plain": [
              "LogisticRegression(random_state=42)"
            ],
            "text/html": [
              "<style>#sk-container-id-1 {color: black;background-color: white;}#sk-container-id-1 pre{padding: 0;}#sk-container-id-1 div.sk-toggleable {background-color: white;}#sk-container-id-1 label.sk-toggleable__label {cursor: pointer;display: block;width: 100%;margin-bottom: 0;padding: 0.3em;box-sizing: border-box;text-align: center;}#sk-container-id-1 label.sk-toggleable__label-arrow:before {content: \"▸\";float: left;margin-right: 0.25em;color: #696969;}#sk-container-id-1 label.sk-toggleable__label-arrow:hover:before {color: black;}#sk-container-id-1 div.sk-estimator:hover label.sk-toggleable__label-arrow:before {color: black;}#sk-container-id-1 div.sk-toggleable__content {max-height: 0;max-width: 0;overflow: hidden;text-align: left;background-color: #f0f8ff;}#sk-container-id-1 div.sk-toggleable__content pre {margin: 0.2em;color: black;border-radius: 0.25em;background-color: #f0f8ff;}#sk-container-id-1 input.sk-toggleable__control:checked~div.sk-toggleable__content {max-height: 200px;max-width: 100%;overflow: auto;}#sk-container-id-1 input.sk-toggleable__control:checked~label.sk-toggleable__label-arrow:before {content: \"▾\";}#sk-container-id-1 div.sk-estimator input.sk-toggleable__control:checked~label.sk-toggleable__label {background-color: #d4ebff;}#sk-container-id-1 div.sk-label input.sk-toggleable__control:checked~label.sk-toggleable__label {background-color: #d4ebff;}#sk-container-id-1 input.sk-hidden--visually {border: 0;clip: rect(1px 1px 1px 1px);clip: rect(1px, 1px, 1px, 1px);height: 1px;margin: -1px;overflow: hidden;padding: 0;position: absolute;width: 1px;}#sk-container-id-1 div.sk-estimator {font-family: monospace;background-color: #f0f8ff;border: 1px dotted black;border-radius: 0.25em;box-sizing: border-box;margin-bottom: 0.5em;}#sk-container-id-1 div.sk-estimator:hover {background-color: #d4ebff;}#sk-container-id-1 div.sk-parallel-item::after {content: \"\";width: 100%;border-bottom: 1px solid gray;flex-grow: 1;}#sk-container-id-1 div.sk-label:hover label.sk-toggleable__label {background-color: #d4ebff;}#sk-container-id-1 div.sk-serial::before {content: \"\";position: absolute;border-left: 1px solid gray;box-sizing: border-box;top: 0;bottom: 0;left: 50%;z-index: 0;}#sk-container-id-1 div.sk-serial {display: flex;flex-direction: column;align-items: center;background-color: white;padding-right: 0.2em;padding-left: 0.2em;position: relative;}#sk-container-id-1 div.sk-item {position: relative;z-index: 1;}#sk-container-id-1 div.sk-parallel {display: flex;align-items: stretch;justify-content: center;background-color: white;position: relative;}#sk-container-id-1 div.sk-item::before, #sk-container-id-1 div.sk-parallel-item::before {content: \"\";position: absolute;border-left: 1px solid gray;box-sizing: border-box;top: 0;bottom: 0;left: 50%;z-index: -1;}#sk-container-id-1 div.sk-parallel-item {display: flex;flex-direction: column;z-index: 1;position: relative;background-color: white;}#sk-container-id-1 div.sk-parallel-item:first-child::after {align-self: flex-end;width: 50%;}#sk-container-id-1 div.sk-parallel-item:last-child::after {align-self: flex-start;width: 50%;}#sk-container-id-1 div.sk-parallel-item:only-child::after {width: 0;}#sk-container-id-1 div.sk-dashed-wrapped {border: 1px dashed gray;margin: 0 0.4em 0.5em 0.4em;box-sizing: border-box;padding-bottom: 0.4em;background-color: white;}#sk-container-id-1 div.sk-label label {font-family: monospace;font-weight: bold;display: inline-block;line-height: 1.2em;}#sk-container-id-1 div.sk-label-container {text-align: center;}#sk-container-id-1 div.sk-container {/* jupyter's `normalize.less` sets `[hidden] { display: none; }` but bootstrap.min.css set `[hidden] { display: none !important; }` so we also need the `!important` here to be able to override the default hidden behavior on the sphinx rendered scikit-learn.org. See: https://github.com/scikit-learn/scikit-learn/issues/21755 */display: inline-block !important;position: relative;}#sk-container-id-1 div.sk-text-repr-fallback {display: none;}</style><div id=\"sk-container-id-1\" class=\"sk-top-container\"><div class=\"sk-text-repr-fallback\"><pre>LogisticRegression(random_state=42)</pre><b>In a Jupyter environment, please rerun this cell to show the HTML representation or trust the notebook. <br />On GitHub, the HTML representation is unable to render, please try loading this page with nbviewer.org.</b></div><div class=\"sk-container\" hidden><div class=\"sk-item\"><div class=\"sk-estimator sk-toggleable\"><input class=\"sk-toggleable__control sk-hidden--visually\" id=\"sk-estimator-id-1\" type=\"checkbox\" checked><label for=\"sk-estimator-id-1\" class=\"sk-toggleable__label sk-toggleable__label-arrow\">LogisticRegression</label><div class=\"sk-toggleable__content\"><pre>LogisticRegression(random_state=42)</pre></div></div></div></div></div>"
            ]
          },
          "metadata": {},
          "execution_count": 64
        }
      ],
      "source": [
        "clf = LogisticRegression(random_state=42)\n",
        "clf.fit(X_train_norm, y_train)"
      ]
    },
    {
      "cell_type": "code",
      "execution_count": null,
      "metadata": {
        "id": "j77K1IcGmm5t"
      },
      "outputs": [],
      "source": [
        "input = X_train_encode. head()"
      ]
    },
    {
      "cell_type": "code",
      "execution_count": null,
      "metadata": {
        "id": "hNN6POuB6Ga4"
      },
      "outputs": [],
      "source": [
        "predict_train = clf.predict(X_train_norm)\n",
        "predict_test = clf.predict(X_test_norm)"
      ]
    },
    {
      "cell_type": "code",
      "execution_count": null,
      "metadata": {
        "id": "Rd4ndVN06UcM"
      },
      "outputs": [],
      "source": [
        "from sklearn.metrics import accuracy_score as ACC\n",
        "\n",
        "ACC(y_train, predict_train)"
      ]
    },
    {
      "cell_type": "code",
      "execution_count": null,
      "metadata": {
        "id": "tWD-B6oL8yj2"
      },
      "outputs": [],
      "source": [
        "y_train.value_counts(normalize = True)"
      ]
    },
    {
      "cell_type": "code",
      "execution_count": null,
      "metadata": {
        "id": "2ynxtH0F6oK6"
      },
      "outputs": [],
      "source": [
        "ACC(y_test, predict_test)"
      ]
    },
    {
      "cell_type": "code",
      "execution_count": null,
      "metadata": {
        "id": "YKmfrh9Tnmf-"
      },
      "outputs": [],
      "source": [
        "y_test.value_counts(normalize = True)"
      ]
    },
    {
      "cell_type": "code",
      "execution_count": null,
      "metadata": {
        "id": "0E3v0dfu7to_"
      },
      "outputs": [],
      "source": [
        "from sklearn.metrics import ConfusionMatrixDisplay"
      ]
    },
    {
      "cell_type": "code",
      "execution_count": null,
      "metadata": {
        "id": "s2pUBFQv7x_s"
      },
      "outputs": [],
      "source": [
        "ConfusionMatrixDisplay.from_predictions(y_test, predict_test)"
      ]
    },
    {
      "cell_type": "code",
      "execution_count": null,
      "metadata": {
        "id": "BC8aYnBj9O7u"
      },
      "outputs": [],
      "source": [
        "from sklearn.metrics import classification_report"
      ]
    },
    {
      "cell_type": "code",
      "execution_count": null,
      "metadata": {
        "id": "fFuvnp5m9SGZ"
      },
      "outputs": [],
      "source": [
        "print(classification_report(y_test, predict_test, zero_division = 0))"
      ]
    },
    {
      "cell_type": "code",
      "execution_count": null,
      "metadata": {
        "id": "CeLtW-77Xb1E"
      },
      "outputs": [],
      "source": [
        "from sklearn.neighbors import KNeighborsClassifier"
      ]
    },
    {
      "cell_type": "code",
      "execution_count": null,
      "metadata": {
        "id": "ka6Bs-6zXg0A"
      },
      "outputs": [],
      "source": [
        "neigh = KNeighborsClassifier(n_neighbors=3)"
      ]
    },
    {
      "cell_type": "code",
      "execution_count": null,
      "metadata": {
        "id": "z8C3NKM-XssV"
      },
      "outputs": [],
      "source": [
        "neigh.fit(X_train_norm, y_train)"
      ]
    },
    {
      "cell_type": "code",
      "execution_count": null,
      "metadata": {
        "id": "7sjo8njmXysq"
      },
      "outputs": [],
      "source": [
        "predict_train = neigh.predict(X_train_norm)\n",
        "predict_test = neigh.predict(X_test_norm)"
      ]
    },
    {
      "cell_type": "code",
      "execution_count": null,
      "metadata": {
        "id": "U1IW77o4X6TR"
      },
      "outputs": [],
      "source": [
        "ConfusionMatrixDisplay.from_predictions(y_test, predict_test)"
      ]
    },
    {
      "cell_type": "code",
      "execution_count": null,
      "metadata": {
        "id": "z6dlN2aZX6pV"
      },
      "outputs": [],
      "source": [
        "print(classification_report(y_train, predict_train, zero_division = 0))"
      ]
    },
    {
      "cell_type": "code",
      "execution_count": null,
      "metadata": {
        "id": "xYHz-uAUYjll"
      },
      "outputs": [],
      "source": [
        "print(classification_report(y_test, predict_test, zero_division = 0))"
      ]
    },
    {
      "cell_type": "code",
      "execution_count": null,
      "metadata": {
        "id": "0mUhkItjZEK5"
      },
      "outputs": [],
      "source": [
        "from sklearn.tree import DecisionTreeClassifier"
      ]
    },
    {
      "cell_type": "code",
      "execution_count": null,
      "metadata": {
        "id": "UGf6b--OZILX"
      },
      "outputs": [],
      "source": [
        "clf = DecisionTreeClassifier(random_state=42)\n",
        "clf.fit(X_train_norm, y_train)"
      ]
    },
    {
      "cell_type": "code",
      "execution_count": null,
      "metadata": {
        "id": "UGLwdpqtZMT9"
      },
      "outputs": [],
      "source": [
        "predict_train = clf.predict(X_train_norm)\n",
        "predict_test = clf.predict(X_test_norm)"
      ]
    },
    {
      "cell_type": "code",
      "execution_count": null,
      "metadata": {
        "id": "rQuB1Y8IZV0R"
      },
      "outputs": [],
      "source": [
        "ConfusionMatrixDisplay.from_predictions(y_test, predict_test)"
      ]
    },
    {
      "cell_type": "code",
      "execution_count": null,
      "metadata": {
        "id": "tKWVvYjEZfR9"
      },
      "outputs": [],
      "source": [
        "print(classification_report(y_train, predict_train, zero_division = 0))"
      ]
    },
    {
      "cell_type": "code",
      "execution_count": null,
      "metadata": {
        "id": "MZxkIykeZhop"
      },
      "outputs": [],
      "source": [
        "print(classification_report(y_test, predict_test, zero_division = 0))"
      ]
    },
    {
      "cell_type": "markdown",
      "metadata": {
        "id": "GQ0QSZ0gZ_wm"
      },
      "source": [
        "##### Modelagem com gridsearch"
      ]
    },
    {
      "cell_type": "code",
      "execution_count": null,
      "metadata": {
        "id": "UroY_xaOaDOJ"
      },
      "outputs": [],
      "source": [
        "X_train_reduzido, X_val, y_train_reduzido, y_val = train_test_split(X_train_norm, y_train, test_size=0.2, random_state=42)"
      ]
    },
    {
      "cell_type": "code",
      "execution_count": null,
      "metadata": {
        "colab": {
          "base_uri": "https://localhost:8080/"
        },
        "id": "gtJaFXmZdQIv",
        "outputId": "f7195949-43dc-44f2-c923-678d82bc35c4"
      },
      "outputs": [
        {
          "output_type": "stream",
          "name": "stdout",
          "text": [
            "None e lbfgs\n",
            "0.12121212121212122\n",
            "None e liblinear\n",
            "None e liblinear não podem ser combinados!\n",
            "l1 e lbfgs\n",
            "l1 e lbfgs não podem ser combinados!\n",
            "l1 e liblinear\n",
            "0.0\n",
            "l2 e lbfgs\n",
            "0.0\n",
            "l2 e liblinear\n",
            "0.0\n",
            "elasticnet e lbfgs\n",
            "elasticnet e lbfgs não podem ser combinados!\n",
            "elasticnet e liblinear\n",
            "elasticnet e liblinear não podem ser combinados!\n"
          ]
        }
      ],
      "source": [
        "from sklearn.metrics import f1_score\n",
        "\n",
        "penaltys = [None, 'l1', 'l2', 'elasticnet']\n",
        "solvers = ['lbfgs', 'liblinear']\n",
        "\n",
        "best_f1_score = 0\n",
        "best_penalty = None\n",
        "best_solver = None\n",
        "\n",
        "\n",
        "for penalty in penaltys:\n",
        "  for solver in solvers:\n",
        "    print(f'{penalty} e {solver}')\n",
        "    try:\n",
        "\n",
        "      logistic = LogisticRegression(penalty = penalty, solver=solver, random_state=42)\n",
        "      logistic.fit(X_train_reduzido, y_train_reduzido)\n",
        "      pred_val = logistic.predict(X_val)\n",
        "\n",
        "    except ValueError:\n",
        "      print(f\"{penalty} e {solver} não podem ser combinados!\")\n",
        "      continue\n",
        "\n",
        "    f1 = f1_score(y_val, pred_val)\n",
        "    print(f1)\n",
        "    if f1 > best_f1_score:\n",
        "\n",
        "      best_f1_score = f1\n",
        "      best_penalty = penalty\n",
        "      best_solver = solver"
      ]
    },
    {
      "cell_type": "code",
      "execution_count": null,
      "metadata": {
        "colab": {
          "base_uri": "https://localhost:8080/"
        },
        "id": "APzXZ-7XfPYg",
        "outputId": "4f60a836-e182-4839-e3f4-fa54f1a9448c"
      },
      "outputs": [
        {
          "output_type": "execute_result",
          "data": {
            "text/plain": [
              "(None, 'lbfgs')"
            ]
          },
          "metadata": {},
          "execution_count": 92
        }
      ],
      "source": [
        "(best_penalty, best_solver)"
      ]
    },
    {
      "cell_type": "code",
      "execution_count": null,
      "metadata": {
        "colab": {
          "base_uri": "https://localhost:8080/",
          "height": 75
        },
        "id": "ruBeoe3df8C4",
        "outputId": "bc1538c4-f29e-462e-a25f-a8f7f58f1234"
      },
      "outputs": [
        {
          "output_type": "execute_result",
          "data": {
            "text/plain": [
              "LogisticRegression(penalty=None, random_state=42)"
            ],
            "text/html": [
              "<style>#sk-container-id-4 {color: black;background-color: white;}#sk-container-id-4 pre{padding: 0;}#sk-container-id-4 div.sk-toggleable {background-color: white;}#sk-container-id-4 label.sk-toggleable__label {cursor: pointer;display: block;width: 100%;margin-bottom: 0;padding: 0.3em;box-sizing: border-box;text-align: center;}#sk-container-id-4 label.sk-toggleable__label-arrow:before {content: \"▸\";float: left;margin-right: 0.25em;color: #696969;}#sk-container-id-4 label.sk-toggleable__label-arrow:hover:before {color: black;}#sk-container-id-4 div.sk-estimator:hover label.sk-toggleable__label-arrow:before {color: black;}#sk-container-id-4 div.sk-toggleable__content {max-height: 0;max-width: 0;overflow: hidden;text-align: left;background-color: #f0f8ff;}#sk-container-id-4 div.sk-toggleable__content pre {margin: 0.2em;color: black;border-radius: 0.25em;background-color: #f0f8ff;}#sk-container-id-4 input.sk-toggleable__control:checked~div.sk-toggleable__content {max-height: 200px;max-width: 100%;overflow: auto;}#sk-container-id-4 input.sk-toggleable__control:checked~label.sk-toggleable__label-arrow:before {content: \"▾\";}#sk-container-id-4 div.sk-estimator input.sk-toggleable__control:checked~label.sk-toggleable__label {background-color: #d4ebff;}#sk-container-id-4 div.sk-label input.sk-toggleable__control:checked~label.sk-toggleable__label {background-color: #d4ebff;}#sk-container-id-4 input.sk-hidden--visually {border: 0;clip: rect(1px 1px 1px 1px);clip: rect(1px, 1px, 1px, 1px);height: 1px;margin: -1px;overflow: hidden;padding: 0;position: absolute;width: 1px;}#sk-container-id-4 div.sk-estimator {font-family: monospace;background-color: #f0f8ff;border: 1px dotted black;border-radius: 0.25em;box-sizing: border-box;margin-bottom: 0.5em;}#sk-container-id-4 div.sk-estimator:hover {background-color: #d4ebff;}#sk-container-id-4 div.sk-parallel-item::after {content: \"\";width: 100%;border-bottom: 1px solid gray;flex-grow: 1;}#sk-container-id-4 div.sk-label:hover label.sk-toggleable__label {background-color: #d4ebff;}#sk-container-id-4 div.sk-serial::before {content: \"\";position: absolute;border-left: 1px solid gray;box-sizing: border-box;top: 0;bottom: 0;left: 50%;z-index: 0;}#sk-container-id-4 div.sk-serial {display: flex;flex-direction: column;align-items: center;background-color: white;padding-right: 0.2em;padding-left: 0.2em;position: relative;}#sk-container-id-4 div.sk-item {position: relative;z-index: 1;}#sk-container-id-4 div.sk-parallel {display: flex;align-items: stretch;justify-content: center;background-color: white;position: relative;}#sk-container-id-4 div.sk-item::before, #sk-container-id-4 div.sk-parallel-item::before {content: \"\";position: absolute;border-left: 1px solid gray;box-sizing: border-box;top: 0;bottom: 0;left: 50%;z-index: -1;}#sk-container-id-4 div.sk-parallel-item {display: flex;flex-direction: column;z-index: 1;position: relative;background-color: white;}#sk-container-id-4 div.sk-parallel-item:first-child::after {align-self: flex-end;width: 50%;}#sk-container-id-4 div.sk-parallel-item:last-child::after {align-self: flex-start;width: 50%;}#sk-container-id-4 div.sk-parallel-item:only-child::after {width: 0;}#sk-container-id-4 div.sk-dashed-wrapped {border: 1px dashed gray;margin: 0 0.4em 0.5em 0.4em;box-sizing: border-box;padding-bottom: 0.4em;background-color: white;}#sk-container-id-4 div.sk-label label {font-family: monospace;font-weight: bold;display: inline-block;line-height: 1.2em;}#sk-container-id-4 div.sk-label-container {text-align: center;}#sk-container-id-4 div.sk-container {/* jupyter's `normalize.less` sets `[hidden] { display: none; }` but bootstrap.min.css set `[hidden] { display: none !important; }` so we also need the `!important` here to be able to override the default hidden behavior on the sphinx rendered scikit-learn.org. See: https://github.com/scikit-learn/scikit-learn/issues/21755 */display: inline-block !important;position: relative;}#sk-container-id-4 div.sk-text-repr-fallback {display: none;}</style><div id=\"sk-container-id-4\" class=\"sk-top-container\"><div class=\"sk-text-repr-fallback\"><pre>LogisticRegression(penalty=None, random_state=42)</pre><b>In a Jupyter environment, please rerun this cell to show the HTML representation or trust the notebook. <br />On GitHub, the HTML representation is unable to render, please try loading this page with nbviewer.org.</b></div><div class=\"sk-container\" hidden><div class=\"sk-item\"><div class=\"sk-estimator sk-toggleable\"><input class=\"sk-toggleable__control sk-hidden--visually\" id=\"sk-estimator-id-4\" type=\"checkbox\" checked><label for=\"sk-estimator-id-4\" class=\"sk-toggleable__label sk-toggleable__label-arrow\">LogisticRegression</label><div class=\"sk-toggleable__content\"><pre>LogisticRegression(penalty=None, random_state=42)</pre></div></div></div></div></div>"
            ]
          },
          "metadata": {},
          "execution_count": 93
        }
      ],
      "source": [
        "logistic = LogisticRegression(penalty = best_penalty, solver=best_solver, random_state=42)\n",
        "logistic.fit(X_train_encode, y_train)"
      ]
    },
    {
      "cell_type": "code",
      "execution_count": null,
      "metadata": {
        "id": "OD7JcI8sg33E"
      },
      "outputs": [],
      "source": [
        "ks = [3, 5, 7, 9, 11, 13, 15, 17, 19]\n",
        "best_f1_score = 0\n",
        "best_k = None\n",
        "for k in ks:\n",
        "  neigh = KNeighborsClassifier(n_neighbors=k)\n",
        "  neigh.fit(X_train_reduzido, y_train_reduzido)\n",
        "  y_pred = neigh.predict(X_val)\n",
        "  f1 = f1_score(y_val, y_pred)\n",
        "  if f1 > best_f1_score:\n",
        "    best_f1_score = f1\n",
        "    best_k = k"
      ]
    },
    {
      "cell_type": "code",
      "execution_count": null,
      "metadata": {
        "colab": {
          "base_uri": "https://localhost:8080/"
        },
        "id": "yxgw_CKVhJ3R",
        "outputId": "93c9f106-8494-48d7-902f-2a7163b06d6d"
      },
      "outputs": [
        {
          "output_type": "execute_result",
          "data": {
            "text/plain": [
              "0.3673469387755102"
            ]
          },
          "metadata": {},
          "execution_count": 95
        }
      ],
      "source": [
        "best_f1_score"
      ]
    },
    {
      "cell_type": "code",
      "execution_count": null,
      "metadata": {
        "colab": {
          "base_uri": "https://localhost:8080/",
          "height": 75
        },
        "id": "bh9Sy3ohhVLV",
        "outputId": "96d24853-4105-4084-e429-afa5a010e9ad"
      },
      "outputs": [
        {
          "output_type": "execute_result",
          "data": {
            "text/plain": [
              "KNeighborsClassifier(n_neighbors=3)"
            ],
            "text/html": [
              "<style>#sk-container-id-5 {color: black;background-color: white;}#sk-container-id-5 pre{padding: 0;}#sk-container-id-5 div.sk-toggleable {background-color: white;}#sk-container-id-5 label.sk-toggleable__label {cursor: pointer;display: block;width: 100%;margin-bottom: 0;padding: 0.3em;box-sizing: border-box;text-align: center;}#sk-container-id-5 label.sk-toggleable__label-arrow:before {content: \"▸\";float: left;margin-right: 0.25em;color: #696969;}#sk-container-id-5 label.sk-toggleable__label-arrow:hover:before {color: black;}#sk-container-id-5 div.sk-estimator:hover label.sk-toggleable__label-arrow:before {color: black;}#sk-container-id-5 div.sk-toggleable__content {max-height: 0;max-width: 0;overflow: hidden;text-align: left;background-color: #f0f8ff;}#sk-container-id-5 div.sk-toggleable__content pre {margin: 0.2em;color: black;border-radius: 0.25em;background-color: #f0f8ff;}#sk-container-id-5 input.sk-toggleable__control:checked~div.sk-toggleable__content {max-height: 200px;max-width: 100%;overflow: auto;}#sk-container-id-5 input.sk-toggleable__control:checked~label.sk-toggleable__label-arrow:before {content: \"▾\";}#sk-container-id-5 div.sk-estimator input.sk-toggleable__control:checked~label.sk-toggleable__label {background-color: #d4ebff;}#sk-container-id-5 div.sk-label input.sk-toggleable__control:checked~label.sk-toggleable__label {background-color: #d4ebff;}#sk-container-id-5 input.sk-hidden--visually {border: 0;clip: rect(1px 1px 1px 1px);clip: rect(1px, 1px, 1px, 1px);height: 1px;margin: -1px;overflow: hidden;padding: 0;position: absolute;width: 1px;}#sk-container-id-5 div.sk-estimator {font-family: monospace;background-color: #f0f8ff;border: 1px dotted black;border-radius: 0.25em;box-sizing: border-box;margin-bottom: 0.5em;}#sk-container-id-5 div.sk-estimator:hover {background-color: #d4ebff;}#sk-container-id-5 div.sk-parallel-item::after {content: \"\";width: 100%;border-bottom: 1px solid gray;flex-grow: 1;}#sk-container-id-5 div.sk-label:hover label.sk-toggleable__label {background-color: #d4ebff;}#sk-container-id-5 div.sk-serial::before {content: \"\";position: absolute;border-left: 1px solid gray;box-sizing: border-box;top: 0;bottom: 0;left: 50%;z-index: 0;}#sk-container-id-5 div.sk-serial {display: flex;flex-direction: column;align-items: center;background-color: white;padding-right: 0.2em;padding-left: 0.2em;position: relative;}#sk-container-id-5 div.sk-item {position: relative;z-index: 1;}#sk-container-id-5 div.sk-parallel {display: flex;align-items: stretch;justify-content: center;background-color: white;position: relative;}#sk-container-id-5 div.sk-item::before, #sk-container-id-5 div.sk-parallel-item::before {content: \"\";position: absolute;border-left: 1px solid gray;box-sizing: border-box;top: 0;bottom: 0;left: 50%;z-index: -1;}#sk-container-id-5 div.sk-parallel-item {display: flex;flex-direction: column;z-index: 1;position: relative;background-color: white;}#sk-container-id-5 div.sk-parallel-item:first-child::after {align-self: flex-end;width: 50%;}#sk-container-id-5 div.sk-parallel-item:last-child::after {align-self: flex-start;width: 50%;}#sk-container-id-5 div.sk-parallel-item:only-child::after {width: 0;}#sk-container-id-5 div.sk-dashed-wrapped {border: 1px dashed gray;margin: 0 0.4em 0.5em 0.4em;box-sizing: border-box;padding-bottom: 0.4em;background-color: white;}#sk-container-id-5 div.sk-label label {font-family: monospace;font-weight: bold;display: inline-block;line-height: 1.2em;}#sk-container-id-5 div.sk-label-container {text-align: center;}#sk-container-id-5 div.sk-container {/* jupyter's `normalize.less` sets `[hidden] { display: none; }` but bootstrap.min.css set `[hidden] { display: none !important; }` so we also need the `!important` here to be able to override the default hidden behavior on the sphinx rendered scikit-learn.org. See: https://github.com/scikit-learn/scikit-learn/issues/21755 */display: inline-block !important;position: relative;}#sk-container-id-5 div.sk-text-repr-fallback {display: none;}</style><div id=\"sk-container-id-5\" class=\"sk-top-container\"><div class=\"sk-text-repr-fallback\"><pre>KNeighborsClassifier(n_neighbors=3)</pre><b>In a Jupyter environment, please rerun this cell to show the HTML representation or trust the notebook. <br />On GitHub, the HTML representation is unable to render, please try loading this page with nbviewer.org.</b></div><div class=\"sk-container\" hidden><div class=\"sk-item\"><div class=\"sk-estimator sk-toggleable\"><input class=\"sk-toggleable__control sk-hidden--visually\" id=\"sk-estimator-id-5\" type=\"checkbox\" checked><label for=\"sk-estimator-id-5\" class=\"sk-toggleable__label sk-toggleable__label-arrow\">KNeighborsClassifier</label><div class=\"sk-toggleable__content\"><pre>KNeighborsClassifier(n_neighbors=3)</pre></div></div></div></div></div>"
            ]
          },
          "metadata": {},
          "execution_count": 96
        }
      ],
      "source": [
        "neigh = KNeighborsClassifier(n_neighbors=best_k)\n",
        "neigh.fit(X_train_norm, y_train)"
      ]
    },
    {
      "cell_type": "code",
      "execution_count": null,
      "metadata": {
        "id": "B8vnxIVLhbId"
      },
      "outputs": [],
      "source": [
        "criterios = ['gini', 'entropy', 'log_loss']\n",
        "max_depths = [10, 20, 30, 40, 50, 100]\n",
        "best_f1_score = 0\n",
        "best_criterio = None\n",
        "best_max_depth = None\n",
        "\n",
        "\n",
        "for criterio in criterios:\n",
        "  for max_depth in max_depths:\n",
        "    decTree = DecisionTreeClassifier(criterion=criterio, max_depth=max_depth, random_state=42)\n",
        "    decTree.fit(X_train_reduzido, y_train_reduzido)\n",
        "\n",
        "    y_pred = decTree.predict(X_val)\n",
        "    f1 = f1_score(y_val, y_pred)\n",
        "    if f1 > best_f1_score:\n",
        "      best_f1_score = f1\n",
        "      best_criterio = criterio\n",
        "      best_max_depth = max_depth"
      ]
    },
    {
      "cell_type": "code",
      "execution_count": null,
      "metadata": {
        "colab": {
          "base_uri": "https://localhost:8080/",
          "height": 75
        },
        "id": "CfF1JhHmh-0H",
        "outputId": "210d4c5e-6dc0-4b65-c530-5dc35d8644ac"
      },
      "outputs": [
        {
          "output_type": "execute_result",
          "data": {
            "text/plain": [
              "DecisionTreeClassifier(criterion='entropy', max_depth=30, random_state=42)"
            ],
            "text/html": [
              "<style>#sk-container-id-6 {color: black;background-color: white;}#sk-container-id-6 pre{padding: 0;}#sk-container-id-6 div.sk-toggleable {background-color: white;}#sk-container-id-6 label.sk-toggleable__label {cursor: pointer;display: block;width: 100%;margin-bottom: 0;padding: 0.3em;box-sizing: border-box;text-align: center;}#sk-container-id-6 label.sk-toggleable__label-arrow:before {content: \"▸\";float: left;margin-right: 0.25em;color: #696969;}#sk-container-id-6 label.sk-toggleable__label-arrow:hover:before {color: black;}#sk-container-id-6 div.sk-estimator:hover label.sk-toggleable__label-arrow:before {color: black;}#sk-container-id-6 div.sk-toggleable__content {max-height: 0;max-width: 0;overflow: hidden;text-align: left;background-color: #f0f8ff;}#sk-container-id-6 div.sk-toggleable__content pre {margin: 0.2em;color: black;border-radius: 0.25em;background-color: #f0f8ff;}#sk-container-id-6 input.sk-toggleable__control:checked~div.sk-toggleable__content {max-height: 200px;max-width: 100%;overflow: auto;}#sk-container-id-6 input.sk-toggleable__control:checked~label.sk-toggleable__label-arrow:before {content: \"▾\";}#sk-container-id-6 div.sk-estimator input.sk-toggleable__control:checked~label.sk-toggleable__label {background-color: #d4ebff;}#sk-container-id-6 div.sk-label input.sk-toggleable__control:checked~label.sk-toggleable__label {background-color: #d4ebff;}#sk-container-id-6 input.sk-hidden--visually {border: 0;clip: rect(1px 1px 1px 1px);clip: rect(1px, 1px, 1px, 1px);height: 1px;margin: -1px;overflow: hidden;padding: 0;position: absolute;width: 1px;}#sk-container-id-6 div.sk-estimator {font-family: monospace;background-color: #f0f8ff;border: 1px dotted black;border-radius: 0.25em;box-sizing: border-box;margin-bottom: 0.5em;}#sk-container-id-6 div.sk-estimator:hover {background-color: #d4ebff;}#sk-container-id-6 div.sk-parallel-item::after {content: \"\";width: 100%;border-bottom: 1px solid gray;flex-grow: 1;}#sk-container-id-6 div.sk-label:hover label.sk-toggleable__label {background-color: #d4ebff;}#sk-container-id-6 div.sk-serial::before {content: \"\";position: absolute;border-left: 1px solid gray;box-sizing: border-box;top: 0;bottom: 0;left: 50%;z-index: 0;}#sk-container-id-6 div.sk-serial {display: flex;flex-direction: column;align-items: center;background-color: white;padding-right: 0.2em;padding-left: 0.2em;position: relative;}#sk-container-id-6 div.sk-item {position: relative;z-index: 1;}#sk-container-id-6 div.sk-parallel {display: flex;align-items: stretch;justify-content: center;background-color: white;position: relative;}#sk-container-id-6 div.sk-item::before, #sk-container-id-6 div.sk-parallel-item::before {content: \"\";position: absolute;border-left: 1px solid gray;box-sizing: border-box;top: 0;bottom: 0;left: 50%;z-index: -1;}#sk-container-id-6 div.sk-parallel-item {display: flex;flex-direction: column;z-index: 1;position: relative;background-color: white;}#sk-container-id-6 div.sk-parallel-item:first-child::after {align-self: flex-end;width: 50%;}#sk-container-id-6 div.sk-parallel-item:last-child::after {align-self: flex-start;width: 50%;}#sk-container-id-6 div.sk-parallel-item:only-child::after {width: 0;}#sk-container-id-6 div.sk-dashed-wrapped {border: 1px dashed gray;margin: 0 0.4em 0.5em 0.4em;box-sizing: border-box;padding-bottom: 0.4em;background-color: white;}#sk-container-id-6 div.sk-label label {font-family: monospace;font-weight: bold;display: inline-block;line-height: 1.2em;}#sk-container-id-6 div.sk-label-container {text-align: center;}#sk-container-id-6 div.sk-container {/* jupyter's `normalize.less` sets `[hidden] { display: none; }` but bootstrap.min.css set `[hidden] { display: none !important; }` so we also need the `!important` here to be able to override the default hidden behavior on the sphinx rendered scikit-learn.org. See: https://github.com/scikit-learn/scikit-learn/issues/21755 */display: inline-block !important;position: relative;}#sk-container-id-6 div.sk-text-repr-fallback {display: none;}</style><div id=\"sk-container-id-6\" class=\"sk-top-container\"><div class=\"sk-text-repr-fallback\"><pre>DecisionTreeClassifier(criterion=&#x27;entropy&#x27;, max_depth=30, random_state=42)</pre><b>In a Jupyter environment, please rerun this cell to show the HTML representation or trust the notebook. <br />On GitHub, the HTML representation is unable to render, please try loading this page with nbviewer.org.</b></div><div class=\"sk-container\" hidden><div class=\"sk-item\"><div class=\"sk-estimator sk-toggleable\"><input class=\"sk-toggleable__control sk-hidden--visually\" id=\"sk-estimator-id-6\" type=\"checkbox\" checked><label for=\"sk-estimator-id-6\" class=\"sk-toggleable__label sk-toggleable__label-arrow\">DecisionTreeClassifier</label><div class=\"sk-toggleable__content\"><pre>DecisionTreeClassifier(criterion=&#x27;entropy&#x27;, max_depth=30, random_state=42)</pre></div></div></div></div></div>"
            ]
          },
          "metadata": {},
          "execution_count": 98
        }
      ],
      "source": [
        "decTree = DecisionTreeClassifier(criterion=best_criterio, max_depth=best_max_depth, random_state=42)\n",
        "decTree.fit(X_train_norm, y_train)"
      ]
    },
    {
      "cell_type": "code",
      "execution_count": null,
      "metadata": {
        "colab": {
          "base_uri": "https://localhost:8080/"
        },
        "id": "9PzEYutZiPti",
        "outputId": "bd88b26c-16a6-4908-b6d1-e4bc419ce2b6"
      },
      "outputs": [
        {
          "output_type": "stream",
          "name": "stdout",
          "text": [
            "------------Regressão Logistica Treinamento:\n",
            "              precision    recall  f1-score   support\n",
            "\n",
            "           0       1.00      0.00      0.00      1093\n",
            "           1       0.12      1.00      0.21       145\n",
            "\n",
            "    accuracy                           0.12      1238\n",
            "   macro avg       0.56      0.50      0.11      1238\n",
            "weighted avg       0.90      0.12      0.03      1238\n",
            "\n",
            "------------KNN Treinamento:\n",
            "              precision    recall  f1-score   support\n",
            "\n",
            "           0       0.94      0.97      0.96      1093\n",
            "           1       0.74      0.57      0.65       145\n",
            "\n",
            "    accuracy                           0.93      1238\n",
            "   macro avg       0.84      0.77      0.80      1238\n",
            "weighted avg       0.92      0.93      0.92      1238\n",
            "\n",
            "------------Decision Tree Treinamento:\n",
            "              precision    recall  f1-score   support\n",
            "\n",
            "           0       0.99      1.00      1.00      1093\n",
            "           1       0.99      0.96      0.97       145\n",
            "\n",
            "    accuracy                           0.99      1238\n",
            "   macro avg       0.99      0.98      0.98      1238\n",
            "weighted avg       0.99      0.99      0.99      1238\n",
            "\n"
          ]
        }
      ],
      "source": [
        "#### Comparando os modelos\n",
        "\n",
        "y_pred_train_logist = logistic.predict(X_train_norm)\n",
        "y_pred_train_knn = neigh.predict(X_train_norm)\n",
        "y_pred_train_dt = decTree.predict(X_train_norm)\n",
        "\n",
        "y_pred_test_logist = logistic.predict(X_test_norm)\n",
        "y_pred_test_knn = neigh.predict(X_test_norm)\n",
        "y_pred_test_dt = decTree.predict(X_test_norm)\n",
        "\n",
        "print(f'------------Regressão Logistica Treinamento:')\n",
        "print(classification_report(y_train, y_pred_train_logist, zero_division = 0))\n",
        "print(f'------------KNN Treinamento:')\n",
        "print(classification_report(y_train, y_pred_train_knn, zero_division = 0))\n",
        "print(f'------------Decision Tree Treinamento:')\n",
        "print(classification_report(y_train, y_pred_train_dt, zero_division = 0))"
      ]
    },
    {
      "cell_type": "code",
      "execution_count": null,
      "metadata": {
        "colab": {
          "base_uri": "https://localhost:8080/"
        },
        "id": "1pASEgYjinOM",
        "outputId": "036f2bd8-bbf7-4927-c3d8-1e0bed83b1dd"
      },
      "outputs": [
        {
          "output_type": "stream",
          "name": "stdout",
          "text": [
            "------------Regressão Logistica Teste:\n",
            "              precision    recall  f1-score   support\n",
            "\n",
            "           0       0.00      0.00      0.00       280\n",
            "           1       0.10      1.00      0.18        30\n",
            "\n",
            "    accuracy                           0.10       310\n",
            "   macro avg       0.05      0.50      0.09       310\n",
            "weighted avg       0.01      0.10      0.02       310\n",
            "\n",
            "------------KNN Teste:\n",
            "              precision    recall  f1-score   support\n",
            "\n",
            "           0       0.92      0.97      0.95       280\n",
            "           1       0.46      0.20      0.28        30\n",
            "\n",
            "    accuracy                           0.90       310\n",
            "   macro avg       0.69      0.59      0.61       310\n",
            "weighted avg       0.87      0.90      0.88       310\n",
            "\n",
            "------------Decision Tree Teste:\n",
            "              precision    recall  f1-score   support\n",
            "\n",
            "           0       0.93      0.92      0.93       280\n",
            "           1       0.33      0.37      0.35        30\n",
            "\n",
            "    accuracy                           0.87       310\n",
            "   macro avg       0.63      0.64      0.64       310\n",
            "weighted avg       0.87      0.87      0.87       310\n",
            "\n"
          ]
        }
      ],
      "source": [
        "print(f'------------Regressão Logistica Teste:')\n",
        "print(classification_report(y_test, y_pred_test_logist, zero_division = 0))\n",
        "print(f'------------KNN Teste:')\n",
        "print(classification_report(y_test, y_pred_test_knn, zero_division = 0))\n",
        "print(f'------------Decision Tree Teste:')\n",
        "print(classification_report(y_test, y_pred_test_dt, zero_division = 0))"
      ]
    },
    {
      "cell_type": "markdown",
      "metadata": {
        "id": "QKWzcEsmfPES"
      },
      "source": [
        "#### Tecnicas para aumentar o desempenho"
      ]
    },
    {
      "cell_type": "code",
      "execution_count": null,
      "metadata": {
        "id": "kJwB9r7Giyl3"
      },
      "outputs": [],
      "source": [
        "from sklearn.model_selection import GridSearchCV"
      ]
    },
    {
      "cell_type": "code",
      "execution_count": null,
      "metadata": {
        "colab": {
          "base_uri": "https://localhost:8080/",
          "height": 118
        },
        "id": "ONsa6dvmfN2B",
        "outputId": "463843e8-a579-44c2-86a8-4441e462f534"
      },
      "outputs": [
        {
          "output_type": "execute_result",
          "data": {
            "text/plain": [
              "GridSearchCV(cv=5, estimator=DecisionTreeClassifier(),\n",
              "             param_grid={'class_weight': [{0: 1, 1: 1}, {0: 1, 1: 2},\n",
              "                                          {0: 1, 1: 4}, {0: 1, 1: 8},\n",
              "                                          {0: 1, 1: 10}],\n",
              "                         'criterion': ['gini', 'entropy', 'log_loss'],\n",
              "                         'max_depth': [10, 20, 30, 40, 50, 100]},\n",
              "             scoring='f1_macro')"
            ],
            "text/html": [
              "<style>#sk-container-id-7 {color: black;background-color: white;}#sk-container-id-7 pre{padding: 0;}#sk-container-id-7 div.sk-toggleable {background-color: white;}#sk-container-id-7 label.sk-toggleable__label {cursor: pointer;display: block;width: 100%;margin-bottom: 0;padding: 0.3em;box-sizing: border-box;text-align: center;}#sk-container-id-7 label.sk-toggleable__label-arrow:before {content: \"▸\";float: left;margin-right: 0.25em;color: #696969;}#sk-container-id-7 label.sk-toggleable__label-arrow:hover:before {color: black;}#sk-container-id-7 div.sk-estimator:hover label.sk-toggleable__label-arrow:before {color: black;}#sk-container-id-7 div.sk-toggleable__content {max-height: 0;max-width: 0;overflow: hidden;text-align: left;background-color: #f0f8ff;}#sk-container-id-7 div.sk-toggleable__content pre {margin: 0.2em;color: black;border-radius: 0.25em;background-color: #f0f8ff;}#sk-container-id-7 input.sk-toggleable__control:checked~div.sk-toggleable__content {max-height: 200px;max-width: 100%;overflow: auto;}#sk-container-id-7 input.sk-toggleable__control:checked~label.sk-toggleable__label-arrow:before {content: \"▾\";}#sk-container-id-7 div.sk-estimator input.sk-toggleable__control:checked~label.sk-toggleable__label {background-color: #d4ebff;}#sk-container-id-7 div.sk-label input.sk-toggleable__control:checked~label.sk-toggleable__label {background-color: #d4ebff;}#sk-container-id-7 input.sk-hidden--visually {border: 0;clip: rect(1px 1px 1px 1px);clip: rect(1px, 1px, 1px, 1px);height: 1px;margin: -1px;overflow: hidden;padding: 0;position: absolute;width: 1px;}#sk-container-id-7 div.sk-estimator {font-family: monospace;background-color: #f0f8ff;border: 1px dotted black;border-radius: 0.25em;box-sizing: border-box;margin-bottom: 0.5em;}#sk-container-id-7 div.sk-estimator:hover {background-color: #d4ebff;}#sk-container-id-7 div.sk-parallel-item::after {content: \"\";width: 100%;border-bottom: 1px solid gray;flex-grow: 1;}#sk-container-id-7 div.sk-label:hover label.sk-toggleable__label {background-color: #d4ebff;}#sk-container-id-7 div.sk-serial::before {content: \"\";position: absolute;border-left: 1px solid gray;box-sizing: border-box;top: 0;bottom: 0;left: 50%;z-index: 0;}#sk-container-id-7 div.sk-serial {display: flex;flex-direction: column;align-items: center;background-color: white;padding-right: 0.2em;padding-left: 0.2em;position: relative;}#sk-container-id-7 div.sk-item {position: relative;z-index: 1;}#sk-container-id-7 div.sk-parallel {display: flex;align-items: stretch;justify-content: center;background-color: white;position: relative;}#sk-container-id-7 div.sk-item::before, #sk-container-id-7 div.sk-parallel-item::before {content: \"\";position: absolute;border-left: 1px solid gray;box-sizing: border-box;top: 0;bottom: 0;left: 50%;z-index: -1;}#sk-container-id-7 div.sk-parallel-item {display: flex;flex-direction: column;z-index: 1;position: relative;background-color: white;}#sk-container-id-7 div.sk-parallel-item:first-child::after {align-self: flex-end;width: 50%;}#sk-container-id-7 div.sk-parallel-item:last-child::after {align-self: flex-start;width: 50%;}#sk-container-id-7 div.sk-parallel-item:only-child::after {width: 0;}#sk-container-id-7 div.sk-dashed-wrapped {border: 1px dashed gray;margin: 0 0.4em 0.5em 0.4em;box-sizing: border-box;padding-bottom: 0.4em;background-color: white;}#sk-container-id-7 div.sk-label label {font-family: monospace;font-weight: bold;display: inline-block;line-height: 1.2em;}#sk-container-id-7 div.sk-label-container {text-align: center;}#sk-container-id-7 div.sk-container {/* jupyter's `normalize.less` sets `[hidden] { display: none; }` but bootstrap.min.css set `[hidden] { display: none !important; }` so we also need the `!important` here to be able to override the default hidden behavior on the sphinx rendered scikit-learn.org. See: https://github.com/scikit-learn/scikit-learn/issues/21755 */display: inline-block !important;position: relative;}#sk-container-id-7 div.sk-text-repr-fallback {display: none;}</style><div id=\"sk-container-id-7\" class=\"sk-top-container\"><div class=\"sk-text-repr-fallback\"><pre>GridSearchCV(cv=5, estimator=DecisionTreeClassifier(),\n",
              "             param_grid={&#x27;class_weight&#x27;: [{0: 1, 1: 1}, {0: 1, 1: 2},\n",
              "                                          {0: 1, 1: 4}, {0: 1, 1: 8},\n",
              "                                          {0: 1, 1: 10}],\n",
              "                         &#x27;criterion&#x27;: [&#x27;gini&#x27;, &#x27;entropy&#x27;, &#x27;log_loss&#x27;],\n",
              "                         &#x27;max_depth&#x27;: [10, 20, 30, 40, 50, 100]},\n",
              "             scoring=&#x27;f1_macro&#x27;)</pre><b>In a Jupyter environment, please rerun this cell to show the HTML representation or trust the notebook. <br />On GitHub, the HTML representation is unable to render, please try loading this page with nbviewer.org.</b></div><div class=\"sk-container\" hidden><div class=\"sk-item sk-dashed-wrapped\"><div class=\"sk-label-container\"><div class=\"sk-label sk-toggleable\"><input class=\"sk-toggleable__control sk-hidden--visually\" id=\"sk-estimator-id-7\" type=\"checkbox\" ><label for=\"sk-estimator-id-7\" class=\"sk-toggleable__label sk-toggleable__label-arrow\">GridSearchCV</label><div class=\"sk-toggleable__content\"><pre>GridSearchCV(cv=5, estimator=DecisionTreeClassifier(),\n",
              "             param_grid={&#x27;class_weight&#x27;: [{0: 1, 1: 1}, {0: 1, 1: 2},\n",
              "                                          {0: 1, 1: 4}, {0: 1, 1: 8},\n",
              "                                          {0: 1, 1: 10}],\n",
              "                         &#x27;criterion&#x27;: [&#x27;gini&#x27;, &#x27;entropy&#x27;, &#x27;log_loss&#x27;],\n",
              "                         &#x27;max_depth&#x27;: [10, 20, 30, 40, 50, 100]},\n",
              "             scoring=&#x27;f1_macro&#x27;)</pre></div></div></div><div class=\"sk-parallel\"><div class=\"sk-parallel-item\"><div class=\"sk-item\"><div class=\"sk-label-container\"><div class=\"sk-label sk-toggleable\"><input class=\"sk-toggleable__control sk-hidden--visually\" id=\"sk-estimator-id-8\" type=\"checkbox\" ><label for=\"sk-estimator-id-8\" class=\"sk-toggleable__label sk-toggleable__label-arrow\">estimator: DecisionTreeClassifier</label><div class=\"sk-toggleable__content\"><pre>DecisionTreeClassifier()</pre></div></div></div><div class=\"sk-serial\"><div class=\"sk-item\"><div class=\"sk-estimator sk-toggleable\"><input class=\"sk-toggleable__control sk-hidden--visually\" id=\"sk-estimator-id-9\" type=\"checkbox\" ><label for=\"sk-estimator-id-9\" class=\"sk-toggleable__label sk-toggleable__label-arrow\">DecisionTreeClassifier</label><div class=\"sk-toggleable__content\"><pre>DecisionTreeClassifier()</pre></div></div></div></div></div></div></div></div></div></div>"
            ]
          },
          "metadata": {},
          "execution_count": 102
        }
      ],
      "source": [
        "parameters = {\n",
        "    'criterion' : ['gini', 'entropy', 'log_loss'],\n",
        "    'max_depth' : [10, 20, 30, 40, 50, 100],\n",
        "    'class_weight' : [ {0:1, 1:1}, {0:1, 1:2}, {0:1, 1:4}, {0:1, 1:8}, {0:1, 1:10} ]\n",
        "  }\n",
        "\n",
        "dt = DecisionTreeClassifier()\n",
        "dt = GridSearchCV(dt, parameters, cv = 5, scoring = 'f1_macro')\n",
        "dt.fit(X_train_norm, y_train)\n"
      ]
    },
    {
      "cell_type": "code",
      "execution_count": null,
      "metadata": {
        "id": "gjF43vt6i24V"
      },
      "outputs": [],
      "source": [
        "pd.DataFrame( dt.cv_results_ )[['params','mean_test_score']]"
      ]
    },
    {
      "cell_type": "code",
      "execution_count": null,
      "metadata": {
        "colab": {
          "base_uri": "https://localhost:8080/"
        },
        "id": "U9Zq3IWfjS9k",
        "outputId": "942e24fd-87eb-446d-ae91-aae966ee81db"
      },
      "outputs": [
        {
          "output_type": "execute_result",
          "data": {
            "text/plain": [
              "{'class_weight': {0: 1, 1: 10}, 'criterion': 'entropy', 'max_depth': 100}"
            ]
          },
          "metadata": {},
          "execution_count": 104
        }
      ],
      "source": [
        "dt.best_params_"
      ]
    },
    {
      "cell_type": "code",
      "execution_count": null,
      "metadata": {
        "id": "fo6ODRWhjYo2"
      },
      "outputs": [],
      "source": [
        "best_model = dt.best_estimator_"
      ]
    },
    {
      "cell_type": "code",
      "execution_count": null,
      "metadata": {
        "id": "mIw5lzAVjeBd"
      },
      "outputs": [],
      "source": [
        "predict_train = best_model.predict(X_train_norm)\n",
        "predict_test= best_model.predict(X_test_norm)"
      ]
    },
    {
      "cell_type": "code",
      "execution_count": null,
      "metadata": {
        "colab": {
          "background_save": true
        },
        "id": "qgnQnHFpjo2g"
      },
      "outputs": [],
      "source": [
        "print(f'------------Decision Tree Treinamento:')\n",
        "print(classification_report(y_train, predict_train, zero_division = 0))"
      ]
    },
    {
      "cell_type": "code",
      "execution_count": null,
      "metadata": {
        "colab": {
          "background_save": true
        },
        "id": "sPwOkAlEjsqf"
      },
      "outputs": [],
      "source": [
        "print(f'------------Decision Tree Teste:')\n",
        "print(classification_report(y_test, predict_test, zero_division = 0))"
      ]
    },
    {
      "cell_type": "markdown",
      "metadata": {
        "id": "2Jnb2qs6p0YR"
      },
      "source": [
        "#### StratifiedKFold"
      ]
    },
    {
      "cell_type": "code",
      "execution_count": null,
      "metadata": {
        "colab": {
          "background_save": true
        },
        "id": "Us3hrYnijuyn"
      },
      "outputs": [],
      "source": [
        "from sklearn.model_selection import StratifiedKFold"
      ]
    },
    {
      "cell_type": "code",
      "execution_count": null,
      "metadata": {
        "id": "3bOHvz_IqEs5"
      },
      "outputs": [],
      "source": [
        "parameters = {\n",
        "    'criterion' : ['gini', 'entropy', 'log_loss'],\n",
        "    'max_depth' : [10, 20, 30, 40, 50, 100],\n",
        "    'class_weight' : [ {0:1, 1:1}, {0:1, 1:2}, {0:1, 1:4}, {0:1, 1:8}, {0:1, 1:10} ]\n",
        "  }\n",
        "\n",
        "kfolds = StratifiedKFold(5)\n",
        "dt = DecisionTreeClassifier()\n",
        "dt = GridSearchCV(dt, parameters, scoring = 'f1_macro', cv= kfolds.split(X_train_norm,y_train))\n",
        "dt.fit(X_train_norm, y_train)"
      ]
    },
    {
      "cell_type": "code",
      "execution_count": null,
      "metadata": {
        "id": "S2G8X8_hqgAx"
      },
      "outputs": [],
      "source": [
        "dt.best_params_"
      ]
    },
    {
      "cell_type": "code",
      "execution_count": null,
      "metadata": {
        "id": "em7I5PR1qmAA"
      },
      "outputs": [],
      "source": [
        "best_model = dt.best_estimator_\n",
        "predict_train = best_model.predict(X_train_norm)\n",
        "predict_test= best_model.predict(X_test_norm)"
      ]
    },
    {
      "cell_type": "code",
      "execution_count": null,
      "metadata": {
        "id": "WG226GxOqtcp"
      },
      "outputs": [],
      "source": [
        "print(f'------------Decision Tree Treinamento:')\n",
        "print(classification_report(y_train, predict_train, zero_division = 0))"
      ]
    },
    {
      "cell_type": "code",
      "execution_count": null,
      "metadata": {
        "id": "oEe52vjVqx5V"
      },
      "outputs": [],
      "source": [
        "print(f'------------Decision Tree Teste:')\n",
        "print(classification_report(y_test, predict_test, zero_division = 0))"
      ]
    }
  ],
  "metadata": {
    "colab": {
      "provenance": []
    },
    "kernelspec": {
      "display_name": "Python 3",
      "name": "python3"
    },
    "language_info": {
      "name": "python"
    }
  },
  "nbformat": 4,
  "nbformat_minor": 0
}