{
  "nbformat": 4,
  "nbformat_minor": 0,
  "metadata": {
    "colab": {
      "provenance": []
    },
    "kernelspec": {
      "name": "python3",
      "display_name": "Python 3"
    },
    "language_info": {
      "name": "python"
    }
  },
  "cells": [
    {
      "cell_type": "code",
      "execution_count": null,
      "metadata": {
        "id": "8WJ_A8Gx284E"
      },
      "outputs": [],
      "source": [
        "import pandas as pd"
      ]
    },
    {
      "cell_type": "code",
      "source": [
        "df = pd.read_csv('/content/sample_data/Turing/cardio_base.csv')"
      ],
      "metadata": {
        "id": "q-um87cx2-Qp"
      },
      "execution_count": null,
      "outputs": []
    },
    {
      "cell_type": "code",
      "source": [
        "df"
      ],
      "metadata": {
        "colab": {
          "base_uri": "https://localhost:8080/",
          "height": 423
        },
        "id": "IaZv-Lhu3apP",
        "outputId": "afc31d78-9823-49a1-c82c-9e52cae28130"
      },
      "execution_count": null,
      "outputs": [
        {
          "output_type": "execute_result",
          "data": {
            "text/plain": [
              "          id    age  gender  height  weight  ap_hi  ap_lo  cholesterol  smoke\n",
              "0          0  18393       2     168    62.0    110     80            1      0\n",
              "1          1  20228       1     156    85.0    140     90            3      0\n",
              "2          2  18857       1     165    64.0    130     70            3      0\n",
              "3          3  17623       2     169    82.0    150    100            1      0\n",
              "4          4  17474       1     156    56.0    100     60            1      0\n",
              "...      ...    ...     ...     ...     ...    ...    ...          ...    ...\n",
              "69995  99993  19240       2     168    76.0    120     80            1      1\n",
              "69996  99995  22601       1     158   126.0    140     90            2      0\n",
              "69997  99996  19066       2     183   105.0    180     90            3      0\n",
              "69998  99998  22431       1     163    72.0    135     80            1      0\n",
              "69999  99999  20540       1     170    72.0    120     80            2      0\n",
              "\n",
              "[70000 rows x 9 columns]"
            ],
            "text/html": [
              "\n",
              "  <div id=\"df-9ba5f13c-1ff6-4eec-b726-bf72a55e45ad\" class=\"colab-df-container\">\n",
              "    <div>\n",
              "<style scoped>\n",
              "    .dataframe tbody tr th:only-of-type {\n",
              "        vertical-align: middle;\n",
              "    }\n",
              "\n",
              "    .dataframe tbody tr th {\n",
              "        vertical-align: top;\n",
              "    }\n",
              "\n",
              "    .dataframe thead th {\n",
              "        text-align: right;\n",
              "    }\n",
              "</style>\n",
              "<table border=\"1\" class=\"dataframe\">\n",
              "  <thead>\n",
              "    <tr style=\"text-align: right;\">\n",
              "      <th></th>\n",
              "      <th>id</th>\n",
              "      <th>age</th>\n",
              "      <th>gender</th>\n",
              "      <th>height</th>\n",
              "      <th>weight</th>\n",
              "      <th>ap_hi</th>\n",
              "      <th>ap_lo</th>\n",
              "      <th>cholesterol</th>\n",
              "      <th>smoke</th>\n",
              "    </tr>\n",
              "  </thead>\n",
              "  <tbody>\n",
              "    <tr>\n",
              "      <th>0</th>\n",
              "      <td>0</td>\n",
              "      <td>18393</td>\n",
              "      <td>2</td>\n",
              "      <td>168</td>\n",
              "      <td>62.0</td>\n",
              "      <td>110</td>\n",
              "      <td>80</td>\n",
              "      <td>1</td>\n",
              "      <td>0</td>\n",
              "    </tr>\n",
              "    <tr>\n",
              "      <th>1</th>\n",
              "      <td>1</td>\n",
              "      <td>20228</td>\n",
              "      <td>1</td>\n",
              "      <td>156</td>\n",
              "      <td>85.0</td>\n",
              "      <td>140</td>\n",
              "      <td>90</td>\n",
              "      <td>3</td>\n",
              "      <td>0</td>\n",
              "    </tr>\n",
              "    <tr>\n",
              "      <th>2</th>\n",
              "      <td>2</td>\n",
              "      <td>18857</td>\n",
              "      <td>1</td>\n",
              "      <td>165</td>\n",
              "      <td>64.0</td>\n",
              "      <td>130</td>\n",
              "      <td>70</td>\n",
              "      <td>3</td>\n",
              "      <td>0</td>\n",
              "    </tr>\n",
              "    <tr>\n",
              "      <th>3</th>\n",
              "      <td>3</td>\n",
              "      <td>17623</td>\n",
              "      <td>2</td>\n",
              "      <td>169</td>\n",
              "      <td>82.0</td>\n",
              "      <td>150</td>\n",
              "      <td>100</td>\n",
              "      <td>1</td>\n",
              "      <td>0</td>\n",
              "    </tr>\n",
              "    <tr>\n",
              "      <th>4</th>\n",
              "      <td>4</td>\n",
              "      <td>17474</td>\n",
              "      <td>1</td>\n",
              "      <td>156</td>\n",
              "      <td>56.0</td>\n",
              "      <td>100</td>\n",
              "      <td>60</td>\n",
              "      <td>1</td>\n",
              "      <td>0</td>\n",
              "    </tr>\n",
              "    <tr>\n",
              "      <th>...</th>\n",
              "      <td>...</td>\n",
              "      <td>...</td>\n",
              "      <td>...</td>\n",
              "      <td>...</td>\n",
              "      <td>...</td>\n",
              "      <td>...</td>\n",
              "      <td>...</td>\n",
              "      <td>...</td>\n",
              "      <td>...</td>\n",
              "    </tr>\n",
              "    <tr>\n",
              "      <th>69995</th>\n",
              "      <td>99993</td>\n",
              "      <td>19240</td>\n",
              "      <td>2</td>\n",
              "      <td>168</td>\n",
              "      <td>76.0</td>\n",
              "      <td>120</td>\n",
              "      <td>80</td>\n",
              "      <td>1</td>\n",
              "      <td>1</td>\n",
              "    </tr>\n",
              "    <tr>\n",
              "      <th>69996</th>\n",
              "      <td>99995</td>\n",
              "      <td>22601</td>\n",
              "      <td>1</td>\n",
              "      <td>158</td>\n",
              "      <td>126.0</td>\n",
              "      <td>140</td>\n",
              "      <td>90</td>\n",
              "      <td>2</td>\n",
              "      <td>0</td>\n",
              "    </tr>\n",
              "    <tr>\n",
              "      <th>69997</th>\n",
              "      <td>99996</td>\n",
              "      <td>19066</td>\n",
              "      <td>2</td>\n",
              "      <td>183</td>\n",
              "      <td>105.0</td>\n",
              "      <td>180</td>\n",
              "      <td>90</td>\n",
              "      <td>3</td>\n",
              "      <td>0</td>\n",
              "    </tr>\n",
              "    <tr>\n",
              "      <th>69998</th>\n",
              "      <td>99998</td>\n",
              "      <td>22431</td>\n",
              "      <td>1</td>\n",
              "      <td>163</td>\n",
              "      <td>72.0</td>\n",
              "      <td>135</td>\n",
              "      <td>80</td>\n",
              "      <td>1</td>\n",
              "      <td>0</td>\n",
              "    </tr>\n",
              "    <tr>\n",
              "      <th>69999</th>\n",
              "      <td>99999</td>\n",
              "      <td>20540</td>\n",
              "      <td>1</td>\n",
              "      <td>170</td>\n",
              "      <td>72.0</td>\n",
              "      <td>120</td>\n",
              "      <td>80</td>\n",
              "      <td>2</td>\n",
              "      <td>0</td>\n",
              "    </tr>\n",
              "  </tbody>\n",
              "</table>\n",
              "<p>70000 rows × 9 columns</p>\n",
              "</div>\n",
              "    <div class=\"colab-df-buttons\">\n",
              "\n",
              "  <div class=\"colab-df-container\">\n",
              "    <button class=\"colab-df-convert\" onclick=\"convertToInteractive('df-9ba5f13c-1ff6-4eec-b726-bf72a55e45ad')\"\n",
              "            title=\"Convert this dataframe to an interactive table.\"\n",
              "            style=\"display:none;\">\n",
              "\n",
              "  <svg xmlns=\"http://www.w3.org/2000/svg\" height=\"24px\" viewBox=\"0 -960 960 960\">\n",
              "    <path d=\"M120-120v-720h720v720H120Zm60-500h600v-160H180v160Zm220 220h160v-160H400v160Zm0 220h160v-160H400v160ZM180-400h160v-160H180v160Zm440 0h160v-160H620v160ZM180-180h160v-160H180v160Zm440 0h160v-160H620v160Z\"/>\n",
              "  </svg>\n",
              "    </button>\n",
              "\n",
              "  <style>\n",
              "    .colab-df-container {\n",
              "      display:flex;\n",
              "      gap: 12px;\n",
              "    }\n",
              "\n",
              "    .colab-df-convert {\n",
              "      background-color: #E8F0FE;\n",
              "      border: none;\n",
              "      border-radius: 50%;\n",
              "      cursor: pointer;\n",
              "      display: none;\n",
              "      fill: #1967D2;\n",
              "      height: 32px;\n",
              "      padding: 0 0 0 0;\n",
              "      width: 32px;\n",
              "    }\n",
              "\n",
              "    .colab-df-convert:hover {\n",
              "      background-color: #E2EBFA;\n",
              "      box-shadow: 0px 1px 2px rgba(60, 64, 67, 0.3), 0px 1px 3px 1px rgba(60, 64, 67, 0.15);\n",
              "      fill: #174EA6;\n",
              "    }\n",
              "\n",
              "    .colab-df-buttons div {\n",
              "      margin-bottom: 4px;\n",
              "    }\n",
              "\n",
              "    [theme=dark] .colab-df-convert {\n",
              "      background-color: #3B4455;\n",
              "      fill: #D2E3FC;\n",
              "    }\n",
              "\n",
              "    [theme=dark] .colab-df-convert:hover {\n",
              "      background-color: #434B5C;\n",
              "      box-shadow: 0px 1px 3px 1px rgba(0, 0, 0, 0.15);\n",
              "      filter: drop-shadow(0px 1px 2px rgba(0, 0, 0, 0.3));\n",
              "      fill: #FFFFFF;\n",
              "    }\n",
              "  </style>\n",
              "\n",
              "    <script>\n",
              "      const buttonEl =\n",
              "        document.querySelector('#df-9ba5f13c-1ff6-4eec-b726-bf72a55e45ad button.colab-df-convert');\n",
              "      buttonEl.style.display =\n",
              "        google.colab.kernel.accessAllowed ? 'block' : 'none';\n",
              "\n",
              "      async function convertToInteractive(key) {\n",
              "        const element = document.querySelector('#df-9ba5f13c-1ff6-4eec-b726-bf72a55e45ad');\n",
              "        const dataTable =\n",
              "          await google.colab.kernel.invokeFunction('convertToInteractive',\n",
              "                                                    [key], {});\n",
              "        if (!dataTable) return;\n",
              "\n",
              "        const docLinkHtml = 'Like what you see? Visit the ' +\n",
              "          '<a target=\"_blank\" href=https://colab.research.google.com/notebooks/data_table.ipynb>data table notebook</a>'\n",
              "          + ' to learn more about interactive tables.';\n",
              "        element.innerHTML = '';\n",
              "        dataTable['output_type'] = 'display_data';\n",
              "        await google.colab.output.renderOutput(dataTable, element);\n",
              "        const docLink = document.createElement('div');\n",
              "        docLink.innerHTML = docLinkHtml;\n",
              "        element.appendChild(docLink);\n",
              "      }\n",
              "    </script>\n",
              "  </div>\n",
              "\n",
              "\n",
              "<div id=\"df-555d4570-81c2-43be-8336-c12f1e23d6bb\">\n",
              "  <button class=\"colab-df-quickchart\" onclick=\"quickchart('df-555d4570-81c2-43be-8336-c12f1e23d6bb')\"\n",
              "            title=\"Suggest charts\"\n",
              "            style=\"display:none;\">\n",
              "\n",
              "<svg xmlns=\"http://www.w3.org/2000/svg\" height=\"24px\"viewBox=\"0 0 24 24\"\n",
              "     width=\"24px\">\n",
              "    <g>\n",
              "        <path d=\"M19 3H5c-1.1 0-2 .9-2 2v14c0 1.1.9 2 2 2h14c1.1 0 2-.9 2-2V5c0-1.1-.9-2-2-2zM9 17H7v-7h2v7zm4 0h-2V7h2v10zm4 0h-2v-4h2v4z\"/>\n",
              "    </g>\n",
              "</svg>\n",
              "  </button>\n",
              "\n",
              "<style>\n",
              "  .colab-df-quickchart {\n",
              "      --bg-color: #E8F0FE;\n",
              "      --fill-color: #1967D2;\n",
              "      --hover-bg-color: #E2EBFA;\n",
              "      --hover-fill-color: #174EA6;\n",
              "      --disabled-fill-color: #AAA;\n",
              "      --disabled-bg-color: #DDD;\n",
              "  }\n",
              "\n",
              "  [theme=dark] .colab-df-quickchart {\n",
              "      --bg-color: #3B4455;\n",
              "      --fill-color: #D2E3FC;\n",
              "      --hover-bg-color: #434B5C;\n",
              "      --hover-fill-color: #FFFFFF;\n",
              "      --disabled-bg-color: #3B4455;\n",
              "      --disabled-fill-color: #666;\n",
              "  }\n",
              "\n",
              "  .colab-df-quickchart {\n",
              "    background-color: var(--bg-color);\n",
              "    border: none;\n",
              "    border-radius: 50%;\n",
              "    cursor: pointer;\n",
              "    display: none;\n",
              "    fill: var(--fill-color);\n",
              "    height: 32px;\n",
              "    padding: 0;\n",
              "    width: 32px;\n",
              "  }\n",
              "\n",
              "  .colab-df-quickchart:hover {\n",
              "    background-color: var(--hover-bg-color);\n",
              "    box-shadow: 0 1px 2px rgba(60, 64, 67, 0.3), 0 1px 3px 1px rgba(60, 64, 67, 0.15);\n",
              "    fill: var(--button-hover-fill-color);\n",
              "  }\n",
              "\n",
              "  .colab-df-quickchart-complete:disabled,\n",
              "  .colab-df-quickchart-complete:disabled:hover {\n",
              "    background-color: var(--disabled-bg-color);\n",
              "    fill: var(--disabled-fill-color);\n",
              "    box-shadow: none;\n",
              "  }\n",
              "\n",
              "  .colab-df-spinner {\n",
              "    border: 2px solid var(--fill-color);\n",
              "    border-color: transparent;\n",
              "    border-bottom-color: var(--fill-color);\n",
              "    animation:\n",
              "      spin 1s steps(1) infinite;\n",
              "  }\n",
              "\n",
              "  @keyframes spin {\n",
              "    0% {\n",
              "      border-color: transparent;\n",
              "      border-bottom-color: var(--fill-color);\n",
              "      border-left-color: var(--fill-color);\n",
              "    }\n",
              "    20% {\n",
              "      border-color: transparent;\n",
              "      border-left-color: var(--fill-color);\n",
              "      border-top-color: var(--fill-color);\n",
              "    }\n",
              "    30% {\n",
              "      border-color: transparent;\n",
              "      border-left-color: var(--fill-color);\n",
              "      border-top-color: var(--fill-color);\n",
              "      border-right-color: var(--fill-color);\n",
              "    }\n",
              "    40% {\n",
              "      border-color: transparent;\n",
              "      border-right-color: var(--fill-color);\n",
              "      border-top-color: var(--fill-color);\n",
              "    }\n",
              "    60% {\n",
              "      border-color: transparent;\n",
              "      border-right-color: var(--fill-color);\n",
              "    }\n",
              "    80% {\n",
              "      border-color: transparent;\n",
              "      border-right-color: var(--fill-color);\n",
              "      border-bottom-color: var(--fill-color);\n",
              "    }\n",
              "    90% {\n",
              "      border-color: transparent;\n",
              "      border-bottom-color: var(--fill-color);\n",
              "    }\n",
              "  }\n",
              "</style>\n",
              "\n",
              "  <script>\n",
              "    async function quickchart(key) {\n",
              "      const quickchartButtonEl =\n",
              "        document.querySelector('#' + key + ' button');\n",
              "      quickchartButtonEl.disabled = true;  // To prevent multiple clicks.\n",
              "      quickchartButtonEl.classList.add('colab-df-spinner');\n",
              "      try {\n",
              "        const charts = await google.colab.kernel.invokeFunction(\n",
              "            'suggestCharts', [key], {});\n",
              "      } catch (error) {\n",
              "        console.error('Error during call to suggestCharts:', error);\n",
              "      }\n",
              "      quickchartButtonEl.classList.remove('colab-df-spinner');\n",
              "      quickchartButtonEl.classList.add('colab-df-quickchart-complete');\n",
              "    }\n",
              "    (() => {\n",
              "      let quickchartButtonEl =\n",
              "        document.querySelector('#df-555d4570-81c2-43be-8336-c12f1e23d6bb button');\n",
              "      quickchartButtonEl.style.display =\n",
              "        google.colab.kernel.accessAllowed ? 'block' : 'none';\n",
              "    })();\n",
              "  </script>\n",
              "</div>\n",
              "    </div>\n",
              "  </div>\n"
            ],
            "application/vnd.google.colaboratory.intrinsic+json": {
              "type": "dataframe",
              "variable_name": "df",
              "summary": "{\n  \"name\": \"df\",\n  \"rows\": 70000,\n  \"fields\": [\n    {\n      \"column\": \"id\",\n      \"properties\": {\n        \"dtype\": \"number\",\n        \"std\": 28851,\n        \"min\": 0,\n        \"max\": 99999,\n        \"num_unique_values\": 70000,\n        \"samples\": [\n          66728,\n          69098,\n          59185\n        ],\n        \"semantic_type\": \"\",\n        \"description\": \"\"\n      }\n    },\n    {\n      \"column\": \"age\",\n      \"properties\": {\n        \"dtype\": \"number\",\n        \"std\": 2467,\n        \"min\": 10798,\n        \"max\": 23713,\n        \"num_unique_values\": 8076,\n        \"samples\": [\n          17317,\n          21437,\n          17627\n        ],\n        \"semantic_type\": \"\",\n        \"description\": \"\"\n      }\n    },\n    {\n      \"column\": \"gender\",\n      \"properties\": {\n        \"dtype\": \"number\",\n        \"std\": 0,\n        \"min\": 1,\n        \"max\": 2,\n        \"num_unique_values\": 2,\n        \"samples\": [\n          1,\n          2\n        ],\n        \"semantic_type\": \"\",\n        \"description\": \"\"\n      }\n    },\n    {\n      \"column\": \"height\",\n      \"properties\": {\n        \"dtype\": \"number\",\n        \"std\": 8,\n        \"min\": 55,\n        \"max\": 250,\n        \"num_unique_values\": 109,\n        \"samples\": [\n          125,\n          181\n        ],\n        \"semantic_type\": \"\",\n        \"description\": \"\"\n      }\n    },\n    {\n      \"column\": \"weight\",\n      \"properties\": {\n        \"dtype\": \"number\",\n        \"std\": 14.39575667851138,\n        \"min\": 10.0,\n        \"max\": 200.0,\n        \"num_unique_values\": 287,\n        \"samples\": [\n          68.0,\n          88.5\n        ],\n        \"semantic_type\": \"\",\n        \"description\": \"\"\n      }\n    },\n    {\n      \"column\": \"ap_hi\",\n      \"properties\": {\n        \"dtype\": \"number\",\n        \"std\": 154,\n        \"min\": -150,\n        \"max\": 16020,\n        \"num_unique_values\": 153,\n        \"samples\": [\n          11500,\n          17\n        ],\n        \"semantic_type\": \"\",\n        \"description\": \"\"\n      }\n    },\n    {\n      \"column\": \"ap_lo\",\n      \"properties\": {\n        \"dtype\": \"number\",\n        \"std\": 188,\n        \"min\": -70,\n        \"max\": 11000,\n        \"num_unique_values\": 157,\n        \"samples\": [\n          810,\n          8044\n        ],\n        \"semantic_type\": \"\",\n        \"description\": \"\"\n      }\n    },\n    {\n      \"column\": \"cholesterol\",\n      \"properties\": {\n        \"dtype\": \"number\",\n        \"std\": 0,\n        \"min\": 1,\n        \"max\": 3,\n        \"num_unique_values\": 3,\n        \"samples\": [\n          1,\n          3\n        ],\n        \"semantic_type\": \"\",\n        \"description\": \"\"\n      }\n    },\n    {\n      \"column\": \"smoke\",\n      \"properties\": {\n        \"dtype\": \"number\",\n        \"std\": 0,\n        \"min\": 0,\n        \"max\": 1,\n        \"num_unique_values\": 2,\n        \"samples\": [\n          1,\n          0\n        ],\n        \"semantic_type\": \"\",\n        \"description\": \"\"\n      }\n    }\n  ]\n}"
            }
          },
          "metadata": {},
          "execution_count": 28
        }
      ]
    },
    {
      "cell_type": "code",
      "source": [
        "import pandas as pd\n",
        "\n",
        "df['age'] = (df['age'] // 365.25).astype(int)\n",
        "\n",
        "age_weight_means = df.groupby('age')['weight'].mean()\n",
        "max_weight_age_group = age_weight_means.idxmax()\n",
        "min_weight_age_group = age_weight_means.idxmin()\n",
        "\n",
        "max_avg_weight = age_weight_means.max()\n",
        "min_avg_weight = age_weight_means.min()\n",
        "weight_difference = max_avg_weight - min_avg_weight\n",
        "\n",
        "print(f\"A diferença de peso entre o grupo etário com a maior média de peso ({max_weight_age_group} anos) e o grupo etário com a menor média de peso ({min_weight_age_group} anos) é {weight_difference:.2f} kg.\")\n"
      ],
      "metadata": {
        "colab": {
          "base_uri": "https://localhost:8080/"
        },
        "id": "J1SOcYmG4INo",
        "outputId": "9500e3ae-d700-4db5-a74c-fbed6a6280ae"
      },
      "execution_count": null,
      "outputs": [
        {
          "output_type": "stream",
          "name": "stdout",
          "text": [
            "A diferença de peso entre o grupo etário com a maior média de peso (63 anos) e o grupo etário com a menor média de peso (30 anos) é 16.85 kg.\n"
          ]
        }
      ]
    },
    {
      "cell_type": "code",
      "source": [
        "import pandas as pd\n",
        "\n",
        "if df['age'].max() > 100:\n",
        "    df['age'] = (df['age'] // 365).astype(int)\n",
        "else:\n",
        "    df['age'] = df['age'].astype(int)\n",
        "\n",
        "print(df[['age', 'cholesterol']].head())\n",
        "\n",
        "over_50 = df[df['age'] > 50]\n",
        "under_50 = df[df['age'] <= 50]\n",
        "mean_cholesterol_over_50 = over_50['cholesterol'].mean()\n",
        "mean_cholesterol_under_50 = under_50['cholesterol'].mean()\n",
        "\n",
        "print(\"Nível médio de colesterol em pessoas com mais de 50 anos:\", mean_cholesterol_over_50)\n",
        "print(\"Nível médio de colesterol em pessoas com 50 anos ou menos:\", mean_cholesterol_under_50)\n",
        "\n",
        "if mean_cholesterol_over_50 > mean_cholesterol_under_50:\n",
        "    print(\"Pessoas com mais de 50 anos têm níveis de colesterol mais elevados do que o resto.\")\n",
        "else:\n",
        "    print(\"Pessoas com mais de 50 anos não têm níveis de colesterol mais elevados do que o resto.\")\n",
        "\n",
        "if mean_cholesterol_under_50 > 0:\n",
        "    percent_difference = ((mean_cholesterol_over_50 - mean_cholesterol_under_50) / mean_cholesterol_under_50) * 100\n",
        "    print(f\"A diferença percentual no nível de colesterol é: {percent_difference:.2f}%\")\n",
        "else:\n",
        "    print(\"Não é possível calcular a diferença percentual porque o nível médio de colesterol em pessoas com 50 anos ou menos é zero.\")\n"
      ],
      "metadata": {
        "colab": {
          "base_uri": "https://localhost:8080/"
        },
        "id": "G3o1ssVl6nYC",
        "outputId": "1dd34a4e-81d7-4976-e54f-0a51340f5911"
      },
      "execution_count": 31,
      "outputs": [
        {
          "output_type": "stream",
          "name": "stdout",
          "text": [
            "   age  cholesterol\n",
            "0   50            1\n",
            "1   55            3\n",
            "2   51            3\n",
            "3   48            1\n",
            "4   47            1\n",
            "Nível médio de colesterol em pessoas com mais de 50 anos: 1.431323283082077\n",
            "Nível médio de colesterol em pessoas com 50 anos ou menos: 1.2481322072437875\n",
            "Pessoas com mais de 50 anos têm níveis de colesterol mais elevados do que o resto.\n",
            "A diferença percentual no nível de colesterol é: 14.68%\n"
          ]
        }
      ]
    },
    {
      "cell_type": "code",
      "source": [
        "import pandas as pd\n",
        "\n",
        "men = df[df['gender'] == 1]\n",
        "women = df[df['gender'] == 2]\n",
        "\n",
        "smoking_men = men['smoke'].mean()\n",
        "smoking_women = women['smoke'].mean()\n",
        "\n",
        "print(\"Proporção de homens que fumam:\", smoking_men)\n",
        "print(\"Proporção de mulheres que fumam:\", smoking_women)\n",
        "\n",
        "if smoking_men > smoking_women:\n",
        "    print(\"Homens têm mais probabilidade de fumar do que mulheres.\")\n",
        "    ratio = smoking_men / smoking_women\n",
        "    print(f\"Os homens têm {ratio:.2f} vezes mais probabilidade de fumar do que as mulheres.\")\n",
        "else:\n",
        "    print(\"Mulheres têm mais probabilidade de fumar do que homens.\")\n",
        "    ratio = smoking_women / smoking_men\n",
        "    print(f\"As mulheres têm {ratio:.2f} vezes mais probabilidade de fumar do que os homens.\")\n",
        "\n",
        "if smoking_women > 0:\n",
        "    percent_difference = ((smoking_men - smoking_women) / smoking_women) * 100\n",
        "    print(f\"A diferença percentual na probabilidade de fumar é: {percent_difference:.2f}%\")\n",
        "else:\n",
        "    print(\"Não é possível calcular a diferença percentual porque a proporção de mulheres que fumam é zero.\")\n"
      ],
      "metadata": {
        "id": "cD5eoDfH7sHk",
        "colab": {
          "base_uri": "https://localhost:8080/"
        },
        "outputId": "ff042bde-3779-4e8b-ae80-8bca7611210e"
      },
      "execution_count": 34,
      "outputs": [
        {
          "output_type": "stream",
          "name": "stdout",
          "text": [
            "Proporção de homens que fumam: 0.017856358444981332\n",
            "Proporção de mulheres que fumam: 0.21888026154474868\n",
            "Mulheres têm mais probabilidade de fumar do que homens.\n",
            "As mulheres têm 12.26 vezes mais probabilidade de fumar do que os homens.\n",
            "A diferença percentual na probabilidade de fumar é: -91.84%\n"
          ]
        }
      ]
    },
    {
      "cell_type": "code",
      "source": [
        "import pandas as pd\n",
        "\n",
        "height_99_percentile = df['height'].quantile(0.99)\n",
        "print(f\"A altura correspondente ao 1% das pessoas mais altas é: {height_99_percentile:.2f} cm\")\n"
      ],
      "metadata": {
        "colab": {
          "base_uri": "https://localhost:8080/"
        },
        "id": "9Irr7gdx9HS0",
        "outputId": "66f2033f-2b0a-46dd-c6f5-00ec4dcb670d"
      },
      "execution_count": 35,
      "outputs": [
        {
          "output_type": "stream",
          "name": "stdout",
          "text": [
            "A altura correspondente ao 1% das pessoas mais altas é: 184.00 cm\n"
          ]
        }
      ]
    },
    {
      "cell_type": "code",
      "source": [
        "import pandas as pd\n",
        "\n",
        "correlation_matrix = df.corr()\n",
        "print(correlation_matrix)\n",
        "correlation_matrix_unstacked = correlation_matrix.abs().unstack()\n",
        "sorted_correlations = correlation_matrix_unstacked.sort_values(kind=\"quicksort\", ascending=False)\n",
        "sorted_correlations = sorted_correlations[sorted_correlations != 1]\n",
        "most_correlated_pair = sorted_correlations.idxmax()\n",
        "most_correlated_value = sorted_correlations.max()\n",
        "\n",
        "print(f\"As duas colunas com a maior correlação são: {most_correlated_pair} com uma correlação de {most_correlated_value:.2f}\")\n"
      ],
      "metadata": {
        "colab": {
          "base_uri": "https://localhost:8080/"
        },
        "id": "9CIStlpa-rfR",
        "outputId": "8699e054-fc01-4b84-b0a6-5662472c358c"
      },
      "execution_count": 36,
      "outputs": [
        {
          "output_type": "stream",
          "name": "stdout",
          "text": [
            "                   id       age    gender    height    weight     ap_hi  \\\n",
            "id           1.000000  0.003836  0.003502 -0.003038 -0.001830  0.003356   \n",
            "age          0.003836  1.000000 -0.022762 -0.081373  0.053567  0.020932   \n",
            "gender       0.003502 -0.022762  1.000000  0.499033  0.155406  0.006005   \n",
            "height      -0.003038 -0.081373  0.499033  1.000000  0.290968  0.005488   \n",
            "weight      -0.001830  0.053567  0.155406  0.290968  1.000000  0.030702   \n",
            "ap_hi        0.003356  0.020932  0.006005  0.005488  0.030702  1.000000   \n",
            "ap_lo       -0.002529  0.017553  0.015254  0.006150  0.043710  0.016086   \n",
            "cholesterol  0.006106  0.153998 -0.035821 -0.050226  0.141768  0.023778   \n",
            "smoke       -0.003699 -0.047479  0.338135  0.187989  0.067780 -0.000922   \n",
            "\n",
            "                ap_lo  cholesterol     smoke  \n",
            "id          -0.002529     0.006106 -0.003699  \n",
            "age          0.017553     0.153998 -0.047479  \n",
            "gender       0.015254    -0.035821  0.338135  \n",
            "height       0.006150    -0.050226  0.187989  \n",
            "weight       0.043710     0.141768  0.067780  \n",
            "ap_hi        0.016086     0.023778 -0.000922  \n",
            "ap_lo        1.000000     0.024019  0.005186  \n",
            "cholesterol  0.024019     1.000000  0.010354  \n",
            "smoke        0.005186     0.010354  1.000000  \n",
            "As duas colunas com a maior correlação são: ('gender', 'height') com uma correlação de 0.50\n"
          ]
        }
      ]
    },
    {
      "cell_type": "code",
      "source": [
        "import pandas as pd\n",
        "\n",
        "mean_height = df['height'].mean()\n",
        "std_height = df['height'].std()\n",
        "lower_limit = mean_height - 2 * std_height\n",
        "upper_limit = mean_height + 2 * std_height\n",
        "\n",
        "outliers = df[(df['height'] < lower_limit) | (df['height'] > upper_limit)]\n",
        "percentage_outliers = (len(outliers) / len(df)) * 100\n",
        "print(f\"Porcentagem de pessoas a mais de 2 desvios padrão da média: {percentage_outliers:.2f}%\")\n"
      ],
      "metadata": {
        "colab": {
          "base_uri": "https://localhost:8080/"
        },
        "id": "JHcxauMj_Wxp",
        "outputId": "99b1f96f-f88b-4ee4-8432-12e78bee5294"
      },
      "execution_count": 37,
      "outputs": [
        {
          "output_type": "stream",
          "name": "stdout",
          "text": [
            "Porcentagem de pessoas a mais de 2 desvios padrão da média: 3.34%\n"
          ]
        }
      ]
    },
    {
      "cell_type": "code",
      "source": [
        "import pandas as pd\n",
        "\n",
        "df = pd.read_csv('/content/sample_data/Turing/cardio_base.csv')\n",
        "df2 = pd.read_csv('/content/sample_data/Turing/cardio_alco.csv', sep=';')\n",
        "\n",
        "print(\"Colunas do primeiro DataFrame (cardio_base.csv):\")\n",
        "print(df.columns)\n",
        "print(\"\\nColunas do segundo DataFrame (cardio_alco.csv):\")\n",
        "print(df2.columns)\n",
        "\n",
        "if 'id' not in df.columns:\n",
        "    df.rename(columns=lambda x: x.strip().lower(), inplace=True)\n",
        "\n",
        "if 'id' not in df2.columns:\n",
        "    df2.rename(columns=lambda x: x.strip().lower(), inplace=True)\n",
        "\n",
        "df_merged = pd.merge(df, df2, on='id', how='inner')\n",
        "print(\"\\nPrimeiras linhas do DataFrame mesclado:\")\n",
        "print(df_merged.head())\n",
        "df_merged['age'] = (df_merged['age'] // 365)\n",
        "df_over_50 = df_merged[df_merged['age'] > 50]\n",
        "df_over_50 = df_over_50.dropna(subset=['alco'])\n",
        "percentage_alco_consumers = (df_over_50['alco'].sum() / len(df_over_50)) * 100\n",
        "\n",
        "print(f\"\\nPorcentagem de pessoas com mais de 50 anos que consomem álcool: {percentage_alco_consumers:.2f}%\")\n"
      ],
      "metadata": {
        "colab": {
          "base_uri": "https://localhost:8080/"
        },
        "id": "unR-58sIAPRp",
        "outputId": "f4c0a3d6-929b-4cae-8977-7613c5a16a9c"
      },
      "execution_count": 48,
      "outputs": [
        {
          "output_type": "stream",
          "name": "stdout",
          "text": [
            "Colunas do primeiro DataFrame (cardio_base.csv):\n",
            "Index(['id', 'age', 'gender', 'height', 'weight', 'ap_hi', 'ap_lo',\n",
            "       'cholesterol', 'smoke'],\n",
            "      dtype='object')\n",
            "\n",
            "Colunas do segundo DataFrame (cardio_alco.csv):\n",
            "Index(['id', 'alco'], dtype='object')\n",
            "\n",
            "Primeiras linhas do DataFrame mesclado:\n",
            "   id    age  gender  height  weight  ap_hi  ap_lo  cholesterol  smoke  alco\n",
            "0  44  14605       1     159    60.0    110     70            1      0     0\n",
            "1  45  20652       1     160    73.0    130     85            1      0     0\n",
            "2  46  21940       2     173    82.0    140     90            3      0     0\n",
            "3  47  20404       1     163    55.0    120     80            1      0     0\n",
            "4  49  18328       2     175    95.0    120     80            1      0     0\n",
            "\n",
            "Porcentagem de pessoas com mais de 50 anos que consomem álcool: 4.91%\n"
          ]
        }
      ]
    },
    {
      "cell_type": "code",
      "source": [
        "from scipy import stats\n",
        "\n",
        "smokers = df_merged[df_merged['smoke'] == 1]\n",
        "non_smokers = df_merged[df_merged['smoke'] == 0]\n",
        "\n",
        "t_stat, p_val = stats.ttest_ind(smokers['cholesterol'], non_smokers['cholesterol'])\n",
        "print(f\"Teste t para colesterol: t_stat = {t_stat}, p_val = {p_val}\")\n",
        "t_stat, p_val = stats.ttest_ind(smokers['weight'], non_smokers['weight'])\n",
        "print(f\"Teste t para peso: t_stat = {t_stat}, p_val = {p_val}\")\n",
        "men = df_merged[df_merged['gender'] == 2]\n",
        "women = df_merged[df_merged['gender'] == 1]\n",
        "\n",
        "t_stat, p_val = stats.ttest_ind(men['ap_hi'], women['ap_hi'])\n",
        "print(f\"Teste t para pressão arterial: t_stat = {t_stat}, p_val = {p_val}\")\n",
        "t_stat, p_val = stats.ttest_ind(smokers['ap_hi'], non_smokers['ap_hi'])\n",
        "print(f\"Teste t para pressão arterial entre fumantes e não fumantes: t_stat = {t_stat}, p_val = {p_val}\")\n",
        "alpha = 0.05\n",
        "\n",
        "if p_val < alpha:\n",
        "    print(\"Rejeitamos a hipótese nula com 95% de confiança.\")\n",
        "else:\n",
        "    print(\"Não podemos rejeitar a hipótese nula com 95% de confiança.\")"
      ],
      "metadata": {
        "colab": {
          "base_uri": "https://localhost:8080/"
        },
        "id": "ObJj1-nnCN6_",
        "outputId": "db3e6240-7293-4c97-9cda-cd1d81f28a3f"
      },
      "execution_count": 50,
      "outputs": [
        {
          "output_type": "stream",
          "name": "stdout",
          "text": [
            "Teste t para colesterol: t_stat = 2.477034269271914, p_val = 0.013250800800403608\n",
            "Teste t para peso: t_stat = 16.545691177666626, p_val = 2.3936615856960592e-61\n",
            "Teste t para pressão arterial: t_stat = 1.5535737249702708, p_val = 0.12029169236848608\n",
            "Teste t para pressão arterial entre fumantes e não fumantes: t_stat = -0.3359886334251424, p_val = 0.7368806768046338\n",
            "Não podemos rejeitar a hipótese nula com 95% de confiança.\n"
          ]
        }
      ]
    },
    {
      "cell_type": "code",
      "source": [
        "df3 = pd.read_csv('/content/sample_data/Turing/covid_data.csv')"
      ],
      "metadata": {
        "id": "Fr_SW3U3HIL8"
      },
      "execution_count": 51,
      "outputs": []
    },
    {
      "cell_type": "code",
      "source": [
        "import pandas as pd\n",
        "\n",
        "italy_data = df3[df3['location'] == 'Italy']\n",
        "germany_data = df3[df3['location'] == 'Germany']\n",
        "italy_grouped = italy_data.groupby('date')['new_cases'].sum().cumsum()\n",
        "germany_grouped = germany_data.groupby('date')['new_cases'].sum().cumsum()\n",
        "\n",
        "combined_data = pd.DataFrame({\n",
        "    'Italy': italy_grouped,\n",
        "    'Germany': germany_grouped\n",
        "}).fillna(0)\n",
        "combined_data['Difference'] = combined_data['Italy'] - combined_data['Germany']\n",
        "date_difference = combined_data[combined_data['Difference'] > 10000].index[0]\n",
        "\n",
        "print(f\"A diferença no número total de casos confirmados entre Itália e Alemanha tornou-se superior a 10.000 em: {date_difference}\")\n"
      ],
      "metadata": {
        "colab": {
          "base_uri": "https://localhost:8080/"
        },
        "id": "tjgD2S83Iv-o",
        "outputId": "b5e6b1bc-3153-44f0-b43d-811ba076fbfa"
      },
      "execution_count": 55,
      "outputs": [
        {
          "output_type": "stream",
          "name": "stdout",
          "text": [
            "A diferença no número total de casos confirmados entre Itália e Alemanha tornou-se superior a 10.000 em: 2020-03-12\n"
          ]
        }
      ]
    },
    {
      "cell_type": "code",
      "source": [
        "import pandas as pd\n",
        "import numpy as np\n",
        "from scipy.optimize import curve_fit\n",
        "import matplotlib.pyplot as plt\n",
        "\n",
        "italy_data = df3[(df3['location'] == 'Italy') &\n",
        "                 (df3['date'] >= '2020-02-28') &\n",
        "                 (df3['date'] <= '2020-03-20')]\n",
        "italy_data_grouped = italy_data.groupby('date')['new_cases'].sum().cumsum().reset_index()\n",
        "italy_data_grouped['days'] = (pd.to_datetime(italy_data_grouped['date']) - pd.to_datetime('2020-02-28')).dt.days\n",
        "\n",
        "def exponential(x, A, B):\n",
        "    return A * np.exp(B * x)\n",
        "\n",
        "x_data = italy_data_grouped['days']\n",
        "y_data = italy_data_grouped['new_cases']\n",
        "params, covariance = curve_fit(exponential, x_data, y_data)\n",
        "days_since_start = (pd.to_datetime('2020-03-20') - pd.to_datetime('2020-02-28')).days\n",
        "predicted_cases = exponential(days_since_start, *params)\n",
        "real_cases = italy_data_grouped.loc[italy_data_grouped['date'] == '2020-03-20', 'new_cases'].values[0]\n",
        "difference = predicted_cases - real_cases\n",
        "\n",
        "print(f\"A diferença entre o valor previsto pela função exponencial e o número real de casos em 2020-03-20 é: {difference}\")\n",
        "\n",
        "plt.plot(x_data, y_data, 'b-', label='Dados Reais')\n",
        "plt.plot(x_data, exponential(x_data, *params), 'r--', label='Ajuste Exponencial')\n",
        "plt.xlabel('Dias desde 2020-02-28')\n",
        "plt.ylabel('Casos Acumulados')\n",
        "plt.legend()\n",
        "plt.show()\n",
        "\n",
        "opcoes = [11756, 37414, 187963, 0, 9785]\n",
        "diferenca_real = np.abs(difference)\n",
        "print(\"Diferença calculada:\", diferenca_real)\n",
        "for opcao in opcoes:\n",
        "    print(f\"Opção {opcao}: Diferença = {np.abs(diferenca_real - opcao)}\")\n"
      ],
      "metadata": {
        "colab": {
          "base_uri": "https://localhost:8080/",
          "height": 570
        },
        "id": "KsM_EqLrJUSl",
        "outputId": "6b5a2dd8-17f9-4e3d-debe-d211b140a343"
      },
      "execution_count": 57,
      "outputs": [
        {
          "output_type": "stream",
          "name": "stdout",
          "text": [
            "A diferença entre o valor previsto pela função exponencial e o número real de casos em 2020-03-20 é: 1711.692669342141\n"
          ]
        },
        {
          "output_type": "display_data",
          "data": {
            "text/plain": [
              "<Figure size 640x480 with 1 Axes>"
            ],
            "image/png": "[encoded data removed]"
          },
          "metadata": {}
        },
        {
          "output_type": "stream",
          "name": "stdout",
          "text": [
            "Diferença calculada: 1711.692669342141\n",
            "Opção 11756: Diferença = 10044.307330657859\n",
            "Opção 37414: Diferença = 35702.30733065786\n",
            "Opção 187963: Diferença = 186251.30733065784\n",
            "Opção 0: Diferença = 1711.692669342141\n",
            "Opção 9785: Diferença = 8073.307330657859\n"
          ]
        }
      ]
    },
    {
      "cell_type": "code",
      "source": [
        "import pandas as pd\n",
        "\n",
        "total_deaths = df3.groupby('location')['new_deaths'].sum().reset_index()\n",
        "population = df3.groupby('location')['population'].first().reset_index()\n",
        "merged_df = pd.merge(total_deaths, population, on='location')\n",
        "merged_df['death_rate'] = (merged_df['new_deaths'] / merged_df['population']) * 1e6\n",
        "merged_df = merged_df.sort_values(by='death_rate', ascending=False)\n",
        "\n",
        "third_highest_death_rate_country = merged_df.iloc[2]['location']\n",
        "third_highest_death_rate = merged_df.iloc[2]['death_rate']\n",
        "\n",
        "print(f\"O país com a terceira maior taxa de mortalidade é: {third_highest_death_rate_country} com uma taxa de mortalidade de {third_highest_death_rate} mortes por milhão de habitantes.\")\n"
      ],
      "metadata": {
        "colab": {
          "base_uri": "https://localhost:8080/"
        },
        "id": "phCmEuu2JqaU",
        "outputId": "9812925a-1b61-4af6-eb5d-1366bd7a5059"
      },
      "execution_count": 59,
      "outputs": [
        {
          "output_type": "stream",
          "name": "stdout",
          "text": [
            "O país com a terceira maior taxa de mortalidade é: Andorra com uma taxa de mortalidade de 660.0660066006601 mortes por milhão de habitantes.\n"
          ]
        }
      ]
    },
    {
      "cell_type": "code",
      "source": [
        "import pandas as pd\n",
        "from sklearn.metrics import f1_score\n",
        "\n",
        "df_filtered = df3.dropna(subset=['aged_65_older_percent', 'new_deaths', 'population'])\n",
        "total_deaths = df_filtered.groupby('location')['new_deaths'].sum().reset_index()\n",
        "population = df_filtered.groupby('location')['population'].first().reset_index()\n",
        "merged_df = pd.merge(total_deaths, population, on='location')\n",
        "\n",
        "\n",
        "merged_df['death_rate'] = (merged_df['new_deaths'] / merged_df['population']) * 1e6\n",
        "aged_65_older_percent = df_filtered.groupby('location')['aged_65_older_percent'].first().reset_index()\n",
        "merged_df = pd.merge(merged_df, aged_65_older_percent, on='location')\n",
        "merged_df['over_65'] = merged_df['aged_65_older_percent'] > 20\n",
        "merged_df['high_death_rate'] = merged_df['death_rate'] > 50\n",
        "\n",
        "f1 = f1_score(merged_df['high_death_rate'], merged_df['over_65'])\n",
        "\n",
        "print(f\"O F1 score da afirmação é: {f1:.2f}\")\n"
      ],
      "metadata": {
        "colab": {
          "base_uri": "https://localhost:8080/"
        },
        "id": "K1ZhfGH0Lxw5",
        "outputId": "e9966930-90bb-42d3-e722-b35dcc134feb"
      },
      "execution_count": 60,
      "outputs": [
        {
          "output_type": "stream",
          "name": "stdout",
          "text": [
            "O F1 score da afirmação é: 0.18\n"
          ]
        }
      ]
    },
    {
      "cell_type": "code",
      "source": [
        "import pandas as pd\n",
        "\n",
        "df_filtered = df3.dropna(subset=['gdp_per_capita', 'hospital_beds_per_thousand'])\n",
        "df_filtered = df_filtered[df_filtered['hospital_beds_per_thousand'] >= 5]\n",
        "\n",
        "total_countries = df_filtered['location'].nunique()\n",
        "df_gdp_over_10000 = df_filtered[df_filtered['gdp_per_capita'] > 10000]\n",
        "countries_gdp_over_10000 = df_gdp_over_10000['location'].nunique()\n",
        "probability = countries_gdp_over_10000 / total_countries\n",
        "\n",
        "print(f\"A probabilidade de um país ter um PIB superior a $10.000, dado que possui pelo menos 5 leitos hospitalares por 1000 habitantes, é: {probability:.2f}\")\n"
      ],
      "metadata": {
        "colab": {
          "base_uri": "https://localhost:8080/"
        },
        "id": "Lg9zja5qMk0V",
        "outputId": "9cc52b02-8bb9-4de2-dba6-d1494cbcedf9"
      },
      "execution_count": 61,
      "outputs": [
        {
          "output_type": "stream",
          "name": "stdout",
          "text": [
            "A probabilidade de um país ter um PIB superior a $10.000, dado que possui pelo menos 5 leitos hospitalares por 1000 habitantes, é: 0.88\n"
          ]
        }
      ]
    },
    {
      "cell_type": "code",
      "source": [],
      "metadata": {
        "id": "i6das6b0NKbM"
      },
      "execution_count": null,
      "outputs": []
    }
  ]
}