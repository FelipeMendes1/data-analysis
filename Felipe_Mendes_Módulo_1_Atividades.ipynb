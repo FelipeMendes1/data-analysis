{
  "nbformat": 4,
  "nbformat_minor": 0,
  "metadata": {
    "colab": {
      "provenance": []
    },
    "kernelspec": {
      "name": "python3",
      "display_name": "Python 3"
    },
    "language_info": {
      "name": "python"
    }
  },
  "cells": [
    {
      "cell_type": "code",
      "execution_count": null,
      "metadata": {
        "id": "AoLUQClZG8KY"
      },
      "outputs": [],
      "source": []
    },
    {
      "cell_type": "markdown",
      "source": [
        "**1. Faça um algoritmo para o jogo \"pedra, papel e tesoura\". O algoritmo deve receber a entrada do jogador 1 e a entrada do jogador 2. A saída deve ser uma mensagem dizendo qual jogador ganhou ou uma mensagem dizendo que deu empate ou uma mensagem dizendo que algum jogador colocou uma entrada incorreta.**\n",
        "\n",
        "Obs. Pesquise sobre as regras do jogo."
      ],
      "metadata": {
        "id": "ExQ1xANUHAWK"
      }
    },
    {
      "cell_type": "code",
      "source": [
        "jogador1 = input(\"Digite sua jogada \").lower().strip()\n",
        "\n",
        "jogador2 = input(\"Digite uma jogada: \").lower().strip()\n",
        "\n",
        "if jogador1 == 'pedra' and jogador2 == 'tesoura':\n",
        "    print('jogador um   venceu')\n",
        "elif jogador1 == 'pedra' and jogador2 == 'papel':\n",
        "    print(\"jogador2 venceu\")\n",
        "elif jogador1 == 'tesoura' and jogador2 == 'pedra':\n",
        "    print('jogador2 venceu')\n",
        "elif jogador1 == 'tesoura' and jogador2 == 'papel':\n",
        "    print(\"jogador1 venceu\")\n",
        "elif jogador1 == 'papel' and jogador2 == 'pedra':\n",
        "    print(\"jogador1 venceu\")\n",
        "elif jogador1 == 'papel' and jogador2 == 'tesoura':\n",
        "    print(\"jogador2  venceu\")\n",
        "elif jogador1 == jogador2:\n",
        "    print(\"o jogo terminou empatado \")\n",
        "else:\n",
        "    print(\"jogada incorreta, tentar dnv por favor\")"
      ],
      "metadata": {
        "id": "Vf0H3x6wHok5",
        "outputId": "3e1c68e4-885b-4f0e-c475-29dd09d4c2dc",
        "colab": {
          "base_uri": "https://localhost:8080/"
        }
      },
      "execution_count": null,
      "outputs": [
        {
          "output_type": "stream",
          "name": "stdout",
          "text": [
            "Digite sua jogada papel\n",
            "Digite uma jogada: papel\n",
            "o jogo terminou empatado \n"
          ]
        }
      ]
    },
    {
      "cell_type": "markdown",
      "source": [
        "**2. Faça um algoritmo (utilizando o conceito de funções) que recebe a temperatura em fahrenheit e converte para celsius.**"
      ],
      "metadata": {
        "id": "BAEakJjSLCXq"
      }
    },
    {
      "cell_type": "code",
      "source": [
        "def transforma_farenreith (temperatura):\n",
        "    return (temperatura-32) * 5/9\n",
        "\n",
        "\n",
        "\n",
        "temperatura = int(input(\"digite uma temperatura qualquer em farenreith: \"))\n",
        "\n",
        "temperatura_em_celsius = transforma_farenreith(temperatura)\n",
        "\n",
        "print(temperatura_em_celsius)"
      ],
      "metadata": {
        "id": "tGlA3WhBH-Qc",
        "outputId": "b7702ec0-add4-4bf1-f534-a8d750906d17",
        "colab": {
          "base_uri": "https://localhost:8080/"
        }
      },
      "execution_count": null,
      "outputs": [
        {
          "output_type": "stream",
          "name": "stdout",
          "text": [
            "digite uma temperatura qualquer em farenreith: 95\n",
            "35.0\n"
          ]
        }
      ]
    },
    {
      "cell_type": "markdown",
      "source": [
        "**3. Faça um algoritmo que recebe 4 notas e retorne a media ponderada. A primeira nota tem peso 2, a segunda nota tem peso 4, a terceira nota tem peso 1 e a quarta nota tem peso 3.**  \n",
        "\n",
        "Obs. Não pode utilizar métodos prontos do python, crie sua própria lógica."
      ],
      "metadata": {
        "id": "WNfgfZjLMvTi"
      }
    },
    {
      "cell_type": "code",
      "source": [
        "notaum = float(input(\"digite a primeira nota: \"))\n",
        "notadois = float(input(\"digite a segunda nota: \"))\n",
        "notatres = float(input(\"digite a terceira nota: \"))\n",
        "notaquatro = float(input(\"digite a quarrta nota: \"))\n",
        "\n",
        "media = ((notaum * 2) + (notadois *4) + (notatres * 1) + (notaquatro*3)) /10\n",
        "\n",
        "print(media)"
      ],
      "metadata": {
        "id": "ILGhxWPZLTha",
        "outputId": "1bcaff06-5896-4d17-901e-067d37b0796a",
        "colab": {
          "base_uri": "https://localhost:8080/"
        }
      },
      "execution_count": null,
      "outputs": [
        {
          "output_type": "stream",
          "name": "stdout",
          "text": [
            "digite a primeira nota: 7.0\n",
            "digite a segunda nota: 5.0\n",
            "digite a terceira nota: 3.0\n",
            "digite a quarrta nota: 8.0\n",
            "6.1\n"
          ]
        }
      ]
    },
    {
      "cell_type": "markdown",
      "source": [
        "**4. Faça uma função que recebe uma lista de valores: [1, 7, 2, 10, 9, 5, 3, 4, 6, 8] e retorne os valores em ordem: [1, 2, 3, 4, 5, 6, 7, 8, 9, 10].**\n",
        "\n",
        "Obs. Não pode utilizar métodos prontos do python, crie sua própria lógica."
      ],
      "metadata": {
        "id": "9gTQ2YiZOSOF"
      }
    },
    {
      "cell_type": "code",
      "source": [
        "def ordena_lista(lista):\n",
        "    for i in range(len(lista)):\n",
        "        minimo_index = i\n",
        "        for j in range(i+1, len(lista)):\n",
        "            if lista[minimo_index] > lista[j]:\n",
        "                minimo_index = j\n",
        "        lista[i], lista[minimo_index] = lista[minimo_index], lista[i]\n",
        "\n",
        "\n",
        "    return lista\n",
        "\n",
        "lista = [1, 7, 2, 10, 9, 5, 3, 4, 6, 8]\n",
        "\n",
        "print(ordena_lista(lista))\n"
      ],
      "metadata": {
        "id": "JrV_Xn9VNdwB",
        "outputId": "cdab2ec6-9972-4dc7-95fe-49aed6ff2878",
        "colab": {
          "base_uri": "https://localhost:8080/"
        }
      },
      "execution_count": null,
      "outputs": [
        {
          "output_type": "stream",
          "name": "stdout",
          "text": [
            "[1, 2, 3, 4, 5, 6, 7, 8, 9, 10]\n"
          ]
        }
      ]
    },
    {
      "cell_type": "markdown",
      "source": [
        "**5. Faça uma função que recebe um texto (exemplo logo abaixo) e retorna o texto sem os sinais de pontuação**\n",
        "\n",
        "**Exemplo de entrada:** \"O despertador toca. É hora de acordar! Levanto-me lentamente, espreguiçando-me. Olho pela janela: o sol está se levantando. Que belo dia! Preparo-me para mais uma jornada. Tomo um café da manhã reforçado: torradas, ovos e suco de laranja. Estou pronto para enfrentar o mundo.\"\n",
        "\n",
        "\n",
        "**Exemplo de saída:** \"O despertador toca É hora de acordar Levanto me lentamente espreguiçando me Olho pela janela o sol está se levantando  Que belo dia Preparo me para mais uma jornada Tomo um café da manhã reforçado torradas ovos e suco de laranja Estou pronto para enfrentar o mundo\""
      ],
      "metadata": {
        "id": "IciTtQwCQAOp"
      }
    },
    {
      "cell_type": "code",
      "source": [
        "import string\n",
        "\n",
        "def remove_pontuacao(texto):\n",
        "\n",
        "    tabela_traduzida = str.maketrans(' ', ' ', string.punctuation)\n",
        "    texto_sem_pontuacao = texto.translate(tabela_traduzida)\n",
        "    return texto_sem_pontuacao\n",
        "\n",
        "textoentrada = input(\"digite aqui seu texto para revisão: \")\n",
        "\n",
        "texto_saida = remove_pontuacao(textoentrada)\n",
        "\n",
        "print(texto_saida)"
      ],
      "metadata": {
        "id": "dh1M8vNtP4zx",
        "outputId": "13fb3854-4032-4326-9d1a-85cdae31d8d5",
        "colab": {
          "base_uri": "https://localhost:8080/"
        }
      },
      "execution_count": null,
      "outputs": [
        {
          "output_type": "stream",
          "name": "stdout",
          "text": [
            "digite aqui seu texto para revisão: O despertador toca. É hora de acordar! Levanto-me lentamente, espreguiçando-me. Olho pela janela: o sol está se levantando. Que belo dia! Preparo-me para mais uma jornada. Tomo um café da manhã reforçado: torradas, ovos e suco de laranja. Estou pronto para enfrentar o mundo.\n",
            "O despertador toca É hora de acordar Levantome lentamente espreguiçandome Olho pela janela o sol está se levantando Que belo dia Preparome para mais uma jornada Tomo um café da manhã reforçado torradas ovos e suco de laranja Estou pronto para enfrentar o mundo\n"
          ]
        }
      ]
    }
  ]
}